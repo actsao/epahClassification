{
 "cells": [
  {
   "cell_type": "code",
   "execution_count": 20,
   "id": "791e4bd7-d3bd-46c4-a76b-21315a6d1a7f",
   "metadata": {},
   "outputs": [],
   "source": [
    "import matplotlib.pyplot as plt\n",
    "import numpy as np\n",
    "import pandas as pd\n",
    "import pywt\n",
    "from scipy.io import loadmat\n",
    "\n",
    "from tsfresh import extract_relevant_features\n",
    "\n",
    "import os"
   ]
  },
  {
   "cell_type": "code",
   "execution_count": 74,
   "id": "19b547f0-942f-46e9-86e4-d210eb87c993",
   "metadata": {},
   "outputs": [
    {
     "data": {
      "text/plain": [
       "array(['RV'], dtype='<U3')"
      ]
     },
     "metadata": {},
     "output_type": "display_data"
    },
    {
     "data": {
      "text/plain": [
       "array(['RV'], dtype='<U3')"
      ]
     },
     "metadata": {},
     "output_type": "display_data"
    },
    {
     "data": {
      "text/plain": [
       "array(['RV'], dtype='<U3')"
      ]
     },
     "metadata": {},
     "output_type": "display_data"
    },
    {
     "data": {
      "text/plain": [
       "array(['RV'], dtype='<U3')"
      ]
     },
     "metadata": {},
     "output_type": "display_data"
    },
    {
     "data": {
      "text/plain": [
       "array(['RV'], dtype='<U3')"
      ]
     },
     "metadata": {},
     "output_type": "display_data"
    },
    {
     "data": {
      "text/plain": [
       "array(['RV'], dtype='<U3')"
      ]
     },
     "metadata": {},
     "output_type": "display_data"
    },
    {
     "data": {
      "text/plain": [
       "array(['RV'], dtype='<U3')"
      ]
     },
     "metadata": {},
     "output_type": "display_data"
    },
    {
     "data": {
      "text/plain": [
       "array(['RV'], dtype='<U3')"
      ]
     },
     "metadata": {},
     "output_type": "display_data"
    },
    {
     "data": {
      "text/plain": [
       "array(['RV'], dtype='<U3')"
      ]
     },
     "metadata": {},
     "output_type": "display_data"
    },
    {
     "data": {
      "text/plain": [
       "array(['RV'], dtype='<U3')"
      ]
     },
     "metadata": {},
     "output_type": "display_data"
    },
    {
     "data": {
      "text/plain": [
       "array(['RV'], dtype='<U3')"
      ]
     },
     "metadata": {},
     "output_type": "display_data"
    },
    {
     "data": {
      "text/plain": [
       "array(['RV'], dtype='<U3')"
      ]
     },
     "metadata": {},
     "output_type": "display_data"
    },
    {
     "data": {
      "text/plain": [
       "array(['RV'], dtype='<U3')"
      ]
     },
     "metadata": {},
     "output_type": "display_data"
    },
    {
     "data": {
      "text/plain": [
       "array(['RV'], dtype='<U3')"
      ]
     },
     "metadata": {},
     "output_type": "display_data"
    },
    {
     "data": {
      "text/plain": [
       "array(['RV'], dtype='<U3')"
      ]
     },
     "metadata": {},
     "output_type": "display_data"
    },
    {
     "data": {
      "text/plain": [
       "array(['RV'], dtype='<U3')"
      ]
     },
     "metadata": {},
     "output_type": "display_data"
    },
    {
     "data": {
      "text/plain": [
       "array(['RV'], dtype='<U3')"
      ]
     },
     "metadata": {},
     "output_type": "display_data"
    },
    {
     "data": {
      "text/plain": [
       "array(['RV'], dtype='<U3')"
      ]
     },
     "metadata": {},
     "output_type": "display_data"
    },
    {
     "data": {
      "text/plain": [
       "array(['RV'], dtype='<U3')"
      ]
     },
     "metadata": {},
     "output_type": "display_data"
    },
    {
     "data": {
      "text/plain": [
       "array(['RV'], dtype='<U3')"
      ]
     },
     "metadata": {},
     "output_type": "display_data"
    },
    {
     "data": {
      "text/plain": [
       "array(['RV'], dtype='<U3')"
      ]
     },
     "metadata": {},
     "output_type": "display_data"
    },
    {
     "data": {
      "text/plain": [
       "array(['RV'], dtype='<U3')"
      ]
     },
     "metadata": {},
     "output_type": "display_data"
    },
    {
     "data": {
      "text/plain": [
       "array(['RV'], dtype='<U3')"
      ]
     },
     "metadata": {},
     "output_type": "display_data"
    },
    {
     "data": {
      "text/plain": [
       "array(['RV'], dtype='<U3')"
      ]
     },
     "metadata": {},
     "output_type": "display_data"
    },
    {
     "data": {
      "text/plain": [
       "array(['RV'], dtype='<U3')"
      ]
     },
     "metadata": {},
     "output_type": "display_data"
    },
    {
     "data": {
      "text/plain": [
       "array(['RV'], dtype='<U3')"
      ]
     },
     "metadata": {},
     "output_type": "display_data"
    },
    {
     "data": {
      "text/plain": [
       "array(['RV'], dtype='<U3')"
      ]
     },
     "metadata": {},
     "output_type": "display_data"
    },
    {
     "data": {
      "text/plain": [
       "array(['RV'], dtype='<U3')"
      ]
     },
     "metadata": {},
     "output_type": "display_data"
    },
    {
     "data": {
      "text/plain": [
       "array(['RV'], dtype='<U3')"
      ]
     },
     "metadata": {},
     "output_type": "display_data"
    },
    {
     "data": {
      "text/plain": [
       "array(['RV'], dtype='<U3')"
      ]
     },
     "metadata": {},
     "output_type": "display_data"
    },
    {
     "data": {
      "text/plain": [
       "array(['RV'], dtype='<U3')"
      ]
     },
     "metadata": {},
     "output_type": "display_data"
    },
    {
     "data": {
      "text/plain": [
       "array(['RV'], dtype='<U3')"
      ]
     },
     "metadata": {},
     "output_type": "display_data"
    },
    {
     "data": {
      "text/plain": [
       "array(['RV'], dtype='<U3')"
      ]
     },
     "metadata": {},
     "output_type": "display_data"
    },
    {
     "data": {
      "text/plain": [
       "array(['RV'], dtype='<U3')"
      ]
     },
     "metadata": {},
     "output_type": "display_data"
    },
    {
     "data": {
      "text/plain": [
       "array(['RV'], dtype='<U3')"
      ]
     },
     "metadata": {},
     "output_type": "display_data"
    },
    {
     "data": {
      "text/plain": [
       "array(['RV'], dtype='<U3')"
      ]
     },
     "metadata": {},
     "output_type": "display_data"
    },
    {
     "data": {
      "text/plain": [
       "array(['RV'], dtype='<U3')"
      ]
     },
     "metadata": {},
     "output_type": "display_data"
    },
    {
     "data": {
      "text/plain": [
       "array(['RV'], dtype='<U3')"
      ]
     },
     "metadata": {},
     "output_type": "display_data"
    },
    {
     "data": {
      "text/plain": [
       "array(['RV'], dtype='<U3')"
      ]
     },
     "metadata": {},
     "output_type": "display_data"
    },
    {
     "data": {
      "text/plain": [
       "array(['RV'], dtype='<U3')"
      ]
     },
     "metadata": {},
     "output_type": "display_data"
    },
    {
     "data": {
      "text/plain": [
       "array(['RV'], dtype='<U3')"
      ]
     },
     "metadata": {},
     "output_type": "display_data"
    },
    {
     "data": {
      "text/plain": [
       "array(['RV'], dtype='<U3')"
      ]
     },
     "metadata": {},
     "output_type": "display_data"
    },
    {
     "data": {
      "text/plain": [
       "array(['RV'], dtype='<U3')"
      ]
     },
     "metadata": {},
     "output_type": "display_data"
    },
    {
     "data": {
      "text/plain": [
       "array(['RV'], dtype='<U3')"
      ]
     },
     "metadata": {},
     "output_type": "display_data"
    },
    {
     "data": {
      "text/plain": [
       "array(['RV'], dtype='<U3')"
      ]
     },
     "metadata": {},
     "output_type": "display_data"
    },
    {
     "data": {
      "text/plain": [
       "array(['RV'], dtype='<U3')"
      ]
     },
     "metadata": {},
     "output_type": "display_data"
    },
    {
     "data": {
      "text/plain": [
       "array(['RV'], dtype='<U3')"
      ]
     },
     "metadata": {},
     "output_type": "display_data"
    },
    {
     "data": {
      "text/plain": [
       "array(['RV'], dtype='<U3')"
      ]
     },
     "metadata": {},
     "output_type": "display_data"
    },
    {
     "data": {
      "text/plain": [
       "array(['RV'], dtype='<U3')"
      ]
     },
     "metadata": {},
     "output_type": "display_data"
    },
    {
     "data": {
      "text/plain": [
       "array(['RV'], dtype='<U3')"
      ]
     },
     "metadata": {},
     "output_type": "display_data"
    },
    {
     "data": {
      "text/plain": [
       "array(['RV'], dtype='<U3')"
      ]
     },
     "metadata": {},
     "output_type": "display_data"
    },
    {
     "data": {
      "text/plain": [
       "array(['RV'], dtype='<U3')"
      ]
     },
     "metadata": {},
     "output_type": "display_data"
    },
    {
     "data": {
      "text/plain": [
       "array(['RV'], dtype='<U3')"
      ]
     },
     "metadata": {},
     "output_type": "display_data"
    },
    {
     "data": {
      "text/plain": [
       "array(['RV'], dtype='<U3')"
      ]
     },
     "metadata": {},
     "output_type": "display_data"
    },
    {
     "data": {
      "text/plain": [
       "array(['RV'], dtype='<U3')"
      ]
     },
     "metadata": {},
     "output_type": "display_data"
    },
    {
     "data": {
      "text/plain": [
       "array(['RV'], dtype='<U3')"
      ]
     },
     "metadata": {},
     "output_type": "display_data"
    },
    {
     "data": {
      "text/plain": [
       "array(['RV'], dtype='<U3')"
      ]
     },
     "metadata": {},
     "output_type": "display_data"
    },
    {
     "data": {
      "text/plain": [
       "array(['RV'], dtype='<U3')"
      ]
     },
     "metadata": {},
     "output_type": "display_data"
    },
    {
     "data": {
      "text/plain": [
       "array(['RV'], dtype='<U3')"
      ]
     },
     "metadata": {},
     "output_type": "display_data"
    },
    {
     "data": {
      "text/plain": [
       "array(['RV'], dtype='<U3')"
      ]
     },
     "metadata": {},
     "output_type": "display_data"
    },
    {
     "data": {
      "text/plain": [
       "array(['RV'], dtype='<U3')"
      ]
     },
     "metadata": {},
     "output_type": "display_data"
    },
    {
     "data": {
      "text/plain": [
       "array(['RV'], dtype='<U3')"
      ]
     },
     "metadata": {},
     "output_type": "display_data"
    },
    {
     "data": {
      "text/plain": [
       "array(['RV'], dtype='<U3')"
      ]
     },
     "metadata": {},
     "output_type": "display_data"
    },
    {
     "data": {
      "text/plain": [
       "array(['RV'], dtype='<U3')"
      ]
     },
     "metadata": {},
     "output_type": "display_data"
    },
    {
     "data": {
      "text/plain": [
       "array(['RV'], dtype='<U3')"
      ]
     },
     "metadata": {},
     "output_type": "display_data"
    },
    {
     "data": {
      "text/plain": [
       "array(['RV'], dtype='<U3')"
      ]
     },
     "metadata": {},
     "output_type": "display_data"
    },
    {
     "data": {
      "text/plain": [
       "array(['RV'], dtype='<U3')"
      ]
     },
     "metadata": {},
     "output_type": "display_data"
    },
    {
     "data": {
      "text/plain": [
       "array(['RV'], dtype='<U3')"
      ]
     },
     "metadata": {},
     "output_type": "display_data"
    },
    {
     "data": {
      "text/plain": [
       "array(['RV'], dtype='<U3')"
      ]
     },
     "metadata": {},
     "output_type": "display_data"
    },
    {
     "data": {
      "text/plain": [
       "array(['RV'], dtype='<U3')"
      ]
     },
     "metadata": {},
     "output_type": "display_data"
    },
    {
     "data": {
      "text/plain": [
       "array(['RV'], dtype='<U3')"
      ]
     },
     "metadata": {},
     "output_type": "display_data"
    },
    {
     "data": {
      "text/plain": [
       "array(['RV'], dtype='<U3')"
      ]
     },
     "metadata": {},
     "output_type": "display_data"
    },
    {
     "data": {
      "text/plain": [
       "array(['RV'], dtype='<U3')"
      ]
     },
     "metadata": {},
     "output_type": "display_data"
    },
    {
     "data": {
      "text/plain": [
       "array(['RV'], dtype='<U3')"
      ]
     },
     "metadata": {},
     "output_type": "display_data"
    },
    {
     "data": {
      "text/plain": [
       "array(['RV'], dtype='<U3')"
      ]
     },
     "metadata": {},
     "output_type": "display_data"
    },
    {
     "data": {
      "text/plain": [
       "array(['RV'], dtype='<U3')"
      ]
     },
     "metadata": {},
     "output_type": "display_data"
    },
    {
     "data": {
      "text/plain": [
       "array(['RV'], dtype='<U3')"
      ]
     },
     "metadata": {},
     "output_type": "display_data"
    },
    {
     "data": {
      "text/plain": [
       "array(['RV'], dtype='<U3')"
      ]
     },
     "metadata": {},
     "output_type": "display_data"
    },
    {
     "data": {
      "text/plain": [
       "array(['RV'], dtype='<U3')"
      ]
     },
     "metadata": {},
     "output_type": "display_data"
    },
    {
     "data": {
      "text/plain": [
       "array(['RV'], dtype='<U3')"
      ]
     },
     "metadata": {},
     "output_type": "display_data"
    },
    {
     "data": {
      "text/plain": [
       "array(['RV'], dtype='<U3')"
      ]
     },
     "metadata": {},
     "output_type": "display_data"
    },
    {
     "data": {
      "text/plain": [
       "array(['RV'], dtype='<U3')"
      ]
     },
     "metadata": {},
     "output_type": "display_data"
    },
    {
     "data": {
      "text/plain": [
       "array(['RV'], dtype='<U3')"
      ]
     },
     "metadata": {},
     "output_type": "display_data"
    },
    {
     "data": {
      "text/plain": [
       "array(['RV'], dtype='<U3')"
      ]
     },
     "metadata": {},
     "output_type": "display_data"
    },
    {
     "data": {
      "text/plain": [
       "array(['RV'], dtype='<U3')"
      ]
     },
     "metadata": {},
     "output_type": "display_data"
    },
    {
     "data": {
      "text/plain": [
       "array(['RV'], dtype='<U3')"
      ]
     },
     "metadata": {},
     "output_type": "display_data"
    },
    {
     "data": {
      "text/plain": [
       "array(['RV'], dtype='<U3')"
      ]
     },
     "metadata": {},
     "output_type": "display_data"
    },
    {
     "data": {
      "text/plain": [
       "array(['RV'], dtype='<U3')"
      ]
     },
     "metadata": {},
     "output_type": "display_data"
    },
    {
     "data": {
      "text/plain": [
       "array(['RV'], dtype='<U3')"
      ]
     },
     "metadata": {},
     "output_type": "display_data"
    },
    {
     "data": {
      "text/plain": [
       "array(['RV'], dtype='<U3')"
      ]
     },
     "metadata": {},
     "output_type": "display_data"
    },
    {
     "data": {
      "text/plain": [
       "array(['RV'], dtype='<U3')"
      ]
     },
     "metadata": {},
     "output_type": "display_data"
    },
    {
     "data": {
      "text/plain": [
       "array(['RV'], dtype='<U3')"
      ]
     },
     "metadata": {},
     "output_type": "display_data"
    },
    {
     "data": {
      "text/plain": [
       "array(['RV'], dtype='<U3')"
      ]
     },
     "metadata": {},
     "output_type": "display_data"
    },
    {
     "data": {
      "text/plain": [
       "array(['RV'], dtype='<U3')"
      ]
     },
     "metadata": {},
     "output_type": "display_data"
    },
    {
     "data": {
      "text/plain": [
       "array(['RV'], dtype='<U3')"
      ]
     },
     "metadata": {},
     "output_type": "display_data"
    },
    {
     "data": {
      "text/plain": [
       "array(['RV'], dtype='<U3')"
      ]
     },
     "metadata": {},
     "output_type": "display_data"
    },
    {
     "data": {
      "text/plain": [
       "array(['RV'], dtype='<U3')"
      ]
     },
     "metadata": {},
     "output_type": "display_data"
    },
    {
     "data": {
      "text/plain": [
       "array(['RV'], dtype='<U3')"
      ]
     },
     "metadata": {},
     "output_type": "display_data"
    },
    {
     "data": {
      "text/plain": [
       "array(['RV'], dtype='<U3')"
      ]
     },
     "metadata": {},
     "output_type": "display_data"
    },
    {
     "data": {
      "text/plain": [
       "array(['RV'], dtype='<U3')"
      ]
     },
     "metadata": {},
     "output_type": "display_data"
    },
    {
     "data": {
      "text/plain": [
       "array(['RV'], dtype='<U3')"
      ]
     },
     "metadata": {},
     "output_type": "display_data"
    },
    {
     "data": {
      "text/plain": [
       "array(['RV'], dtype='<U3')"
      ]
     },
     "metadata": {},
     "output_type": "display_data"
    },
    {
     "data": {
      "text/plain": [
       "array(['RV'], dtype='<U3')"
      ]
     },
     "metadata": {},
     "output_type": "display_data"
    },
    {
     "data": {
      "text/plain": [
       "array(['RV'], dtype='<U3')"
      ]
     },
     "metadata": {},
     "output_type": "display_data"
    },
    {
     "data": {
      "text/plain": [
       "array(['RV'], dtype='<U3')"
      ]
     },
     "metadata": {},
     "output_type": "display_data"
    },
    {
     "data": {
      "text/plain": [
       "array(['RV'], dtype='<U3')"
      ]
     },
     "metadata": {},
     "output_type": "display_data"
    },
    {
     "data": {
      "text/plain": [
       "array(['RV'], dtype='<U3')"
      ]
     },
     "metadata": {},
     "output_type": "display_data"
    },
    {
     "data": {
      "text/plain": [
       "array(['RV'], dtype='<U3')"
      ]
     },
     "metadata": {},
     "output_type": "display_data"
    },
    {
     "data": {
      "text/plain": [
       "array(['RV'], dtype='<U3')"
      ]
     },
     "metadata": {},
     "output_type": "display_data"
    },
    {
     "data": {
      "text/plain": [
       "array(['RV'], dtype='<U3')"
      ]
     },
     "metadata": {},
     "output_type": "display_data"
    },
    {
     "data": {
      "text/plain": [
       "array(['RV'], dtype='<U3')"
      ]
     },
     "metadata": {},
     "output_type": "display_data"
    },
    {
     "data": {
      "text/plain": [
       "array(['RV'], dtype='<U3')"
      ]
     },
     "metadata": {},
     "output_type": "display_data"
    },
    {
     "data": {
      "text/plain": [
       "array(['RV'], dtype='<U3')"
      ]
     },
     "metadata": {},
     "output_type": "display_data"
    },
    {
     "data": {
      "text/plain": [
       "array([''], dtype='<U3')"
      ]
     },
     "metadata": {},
     "output_type": "display_data"
    },
    {
     "data": {
      "text/plain": [
       "array([''], dtype='<U3')"
      ]
     },
     "metadata": {},
     "output_type": "display_data"
    },
    {
     "data": {
      "text/plain": [
       "array(['RV'], dtype='<U3')"
      ]
     },
     "metadata": {},
     "output_type": "display_data"
    }
   ],
   "source": [
    "# data = mat['wave'][0][0][13][3]\n",
    "\n",
    "# file = files[0]\n",
    "\n",
    "# mat = loadmat(f'waveforms/{file}')\n",
    "\n",
    "# for i in range(0, len(mat['wave'][0][0])):\n",
    "#     display(mat['wave'][0][0][i])\n",
    "\n",
    "for file in files:\n",
    "    mat = loadmat(f'waveforms/{file}')\n",
    "    display(mat['wave'][0][0][12])"
   ]
  },
  {
   "cell_type": "code",
   "execution_count": 41,
   "id": "10b652e0-f65c-4553-90ff-369a5ec10ffa",
   "metadata": {},
   "outputs": [
    {
     "data": {
      "text/html": [
       "<div>\n",
       "<style scoped>\n",
       "    .dataframe tbody tr th:only-of-type {\n",
       "        vertical-align: middle;\n",
       "    }\n",
       "\n",
       "    .dataframe tbody tr th {\n",
       "        vertical-align: top;\n",
       "    }\n",
       "\n",
       "    .dataframe thead th {\n",
       "        text-align: right;\n",
       "    }\n",
       "</style>\n",
       "<table border=\"1\" class=\"dataframe\">\n",
       "  <thead>\n",
       "    <tr style=\"text-align: right;\">\n",
       "      <th></th>\n",
       "      <th>id</th>\n",
       "      <th>time</th>\n",
       "      <th>value</th>\n",
       "    </tr>\n",
       "  </thead>\n",
       "  <tbody>\n",
       "    <tr>\n",
       "      <th>0</th>\n",
       "      <td>EL1001</td>\n",
       "      <td>0</td>\n",
       "      <td>20.52</td>\n",
       "    </tr>\n",
       "    <tr>\n",
       "      <th>1</th>\n",
       "      <td>EL1001</td>\n",
       "      <td>1</td>\n",
       "      <td>20.16</td>\n",
       "    </tr>\n",
       "    <tr>\n",
       "      <th>2</th>\n",
       "      <td>EL1001</td>\n",
       "      <td>2</td>\n",
       "      <td>19.80</td>\n",
       "    </tr>\n",
       "    <tr>\n",
       "      <th>3</th>\n",
       "      <td>EL1001</td>\n",
       "      <td>3</td>\n",
       "      <td>19.42</td>\n",
       "    </tr>\n",
       "    <tr>\n",
       "      <th>4</th>\n",
       "      <td>EL1001</td>\n",
       "      <td>4</td>\n",
       "      <td>19.10</td>\n",
       "    </tr>\n",
       "    <tr>\n",
       "      <th>...</th>\n",
       "      <td>...</td>\n",
       "      <td>...</td>\n",
       "      <td>...</td>\n",
       "    </tr>\n",
       "    <tr>\n",
       "      <th>202995</th>\n",
       "      <td>HK502</td>\n",
       "      <td>1745</td>\n",
       "      <td>7.34</td>\n",
       "    </tr>\n",
       "    <tr>\n",
       "      <th>202996</th>\n",
       "      <td>HK502</td>\n",
       "      <td>1746</td>\n",
       "      <td>7.44</td>\n",
       "    </tr>\n",
       "    <tr>\n",
       "      <th>202997</th>\n",
       "      <td>HK502</td>\n",
       "      <td>1747</td>\n",
       "      <td>7.50</td>\n",
       "    </tr>\n",
       "    <tr>\n",
       "      <th>202998</th>\n",
       "      <td>HK502</td>\n",
       "      <td>1748</td>\n",
       "      <td>7.56</td>\n",
       "    </tr>\n",
       "    <tr>\n",
       "      <th>202999</th>\n",
       "      <td>HK502</td>\n",
       "      <td>1749</td>\n",
       "      <td>7.62</td>\n",
       "    </tr>\n",
       "  </tbody>\n",
       "</table>\n",
       "<p>203000 rows × 3 columns</p>\n",
       "</div>"
      ],
      "text/plain": [
       "            id  time  value\n",
       "0       EL1001     0  20.52\n",
       "1       EL1001     1  20.16\n",
       "2       EL1001     2  19.80\n",
       "3       EL1001     3  19.42\n",
       "4       EL1001     4  19.10\n",
       "...        ...   ...    ...\n",
       "202995   HK502  1745   7.34\n",
       "202996   HK502  1746   7.44\n",
       "202997   HK502  1747   7.50\n",
       "202998   HK502  1748   7.56\n",
       "202999   HK502  1749   7.62\n",
       "\n",
       "[203000 rows x 3 columns]"
      ]
     },
     "metadata": {},
     "output_type": "display_data"
    },
    {
     "data": {
      "text/plain": [
       "EL1001    0\n",
       "EL1026    1\n",
       "EL1029    1\n",
       "EL102     0\n",
       "EL1038    0\n",
       "         ..\n",
       "EL94      0\n",
       "EL978     0\n",
       "HG8707    0\n",
       "HJ3311    1\n",
       "HK502     0\n",
       "Length: 116, dtype: int64"
      ]
     },
     "metadata": {},
     "output_type": "display_data"
    }
   ],
   "source": [
    "files = [f for f in os.listdir('waveforms') if '_000.mat' in f]\n",
    "\n",
    "# Load labels into Data Series\n",
    "y_dict = {}\n",
    "for file in files:\n",
    "    y_dict[file_name] = int(data[0] % 2)  # Dummy Label\n",
    "\n",
    "# Load time series into DataFrame\n",
    "df_list = []\n",
    "for file in files:\n",
    "    # Load sample ECG data from the downloaded MATLAB file\n",
    "    mat = loadmat(f'waveforms/{file}')\n",
    "    data = mat['wave'][0][0][13][3]\n",
    "    \n",
    "    file_name = file.split('_')[0]\n",
    "    \n",
    "    for i, d in enumerate(data):\n",
    "        df_dict = {\n",
    "            'id':    file.split('_')[0],\n",
    "            'time':    i,\n",
    "            'value':   data[i],\n",
    "        }\n",
    "        \n",
    "        df_list.append(df_dict)\n",
    "        \n",
    "d = [file.split('_')[0] for file in files]\n",
    "df = pd.DataFrame(df_list)\n",
    "y_df = pd.Series(y_dict, index=d)\n",
    "display(df)\n",
    "display(y_df)"
   ]
  },
  {
   "cell_type": "code",
   "execution_count": 42,
   "id": "f93f5b6a-9bc4-4e41-9893-dbb11059a822",
   "metadata": {},
   "outputs": [
    {
     "name": "stderr",
     "output_type": "stream",
     "text": [
      "Feature Extraction: 100%|██████████████████████████████████████████████████████████████| 29/29 [01:10<00:00,  2.42s/it]\n"
     ]
    }
   ],
   "source": [
    "features_filtered_direct = extract_relevant_features(df, y_df,\n",
    "                                                     column_id='id', column_sort='time',\n",
    "                                                     column_value='value')"
   ]
  },
  {
   "cell_type": "code",
   "execution_count": 43,
   "id": "a20cf933-4371-40e5-b280-ceeb97b2944d",
   "metadata": {},
   "outputs": [
    {
     "data": {
      "text/html": [
       "<div>\n",
       "<style scoped>\n",
       "    .dataframe tbody tr th:only-of-type {\n",
       "        vertical-align: middle;\n",
       "    }\n",
       "\n",
       "    .dataframe tbody tr th {\n",
       "        vertical-align: top;\n",
       "    }\n",
       "\n",
       "    .dataframe thead th {\n",
       "        text-align: right;\n",
       "    }\n",
       "</style>\n",
       "<table border=\"1\" class=\"dataframe\">\n",
       "  <thead>\n",
       "    <tr style=\"text-align: right;\">\n",
       "      <th></th>\n",
       "    </tr>\n",
       "  </thead>\n",
       "  <tbody>\n",
       "    <tr>\n",
       "      <th>EL1001</th>\n",
       "    </tr>\n",
       "    <tr>\n",
       "      <th>EL102</th>\n",
       "    </tr>\n",
       "    <tr>\n",
       "      <th>EL1026</th>\n",
       "    </tr>\n",
       "    <tr>\n",
       "      <th>EL1029</th>\n",
       "    </tr>\n",
       "    <tr>\n",
       "      <th>EL103</th>\n",
       "    </tr>\n",
       "    <tr>\n",
       "      <th>...</th>\n",
       "    </tr>\n",
       "    <tr>\n",
       "      <th>EL948</th>\n",
       "    </tr>\n",
       "    <tr>\n",
       "      <th>EL978</th>\n",
       "    </tr>\n",
       "    <tr>\n",
       "      <th>HG8707</th>\n",
       "    </tr>\n",
       "    <tr>\n",
       "      <th>HJ3311</th>\n",
       "    </tr>\n",
       "    <tr>\n",
       "      <th>HK502</th>\n",
       "    </tr>\n",
       "  </tbody>\n",
       "</table>\n",
       "<p>116 rows × 0 columns</p>\n",
       "</div>"
      ],
      "text/plain": [
       "Empty DataFrame\n",
       "Columns: []\n",
       "Index: [EL1001, EL102, EL1026, EL1029, EL103, EL1038, EL104, EL1051, EL1052, EL1053, EL1060, EL1062, EL107, EL1072, EL1079, EL1082, EL1083, EL1095, EL1108, EL1120, EL1134, EL114, EL1145, EL115, EL1151, EL118, EL120, EL1223, EL126, EL127, EL1308, EL131, EL1323, EL1326, EL135, EL140, EL143, EL152, EL154, EL155, EL156, EL157, EL162, EL170, EL177, EL195, EL200, EL206, EL249, EL252, EL254, EL290, EL401, EL411, EL413, EL421, EL436, EL442, EL447, EL451, EL452, EL455, EL457, EL459, EL461, EL480, EL486, EL489, EL505, EL514, EL527, EL529, EL555, EL565, EL580, EL583, EL585, EL604, EL627, EL632, EL640, EL643, EL648, EL675, EL679, EL682, EL698, EL699, EL721, EL737, EL750, EL763, EL764, EL771, EL772, EL807, EL809, EL818, EL82, EL833, ...]\n",
       "\n",
       "[116 rows x 0 columns]"
      ]
     },
     "execution_count": 43,
     "metadata": {},
     "output_type": "execute_result"
    }
   ],
   "source": [
    "features_filtered_direct"
   ]
  },
  {
   "cell_type": "code",
   "execution_count": 48,
   "id": "f7a84dd7-8260-413d-a128-0bb4718a82e2",
   "metadata": {},
   "outputs": [
    {
     "name": "stderr",
     "output_type": "stream",
     "text": [
      "Feature Extraction: 100%|██████████████████████████████████████████████████████████████| 29/29 [01:09<00:00,  2.40s/it]\n"
     ]
    }
   ],
   "source": [
    "from tsfresh import extract_features\n",
    "extracted_features = extract_features(df, column_id='id', column_sort='time',\n",
    "                                      column_value=None)\n"
   ]
  },
  {
   "cell_type": "code",
   "execution_count": 49,
   "id": "4040a512-18db-48c3-b674-3ce542c0a2b8",
   "metadata": {},
   "outputs": [
    {
     "data": {
      "text/html": [
       "<div>\n",
       "<style scoped>\n",
       "    .dataframe tbody tr th:only-of-type {\n",
       "        vertical-align: middle;\n",
       "    }\n",
       "\n",
       "    .dataframe tbody tr th {\n",
       "        vertical-align: top;\n",
       "    }\n",
       "\n",
       "    .dataframe thead th {\n",
       "        text-align: right;\n",
       "    }\n",
       "</style>\n",
       "<table border=\"1\" class=\"dataframe\">\n",
       "  <thead>\n",
       "    <tr style=\"text-align: right;\">\n",
       "      <th></th>\n",
       "      <th>value__variance_larger_than_standard_deviation</th>\n",
       "      <th>value__has_duplicate_max</th>\n",
       "      <th>value__has_duplicate_min</th>\n",
       "      <th>value__has_duplicate</th>\n",
       "      <th>value__sum_values</th>\n",
       "      <th>value__abs_energy</th>\n",
       "      <th>value__mean_abs_change</th>\n",
       "      <th>value__mean_change</th>\n",
       "      <th>value__mean_second_derivative_central</th>\n",
       "      <th>value__median</th>\n",
       "      <th>...</th>\n",
       "      <th>value__permutation_entropy__dimension_5__tau_1</th>\n",
       "      <th>value__permutation_entropy__dimension_6__tau_1</th>\n",
       "      <th>value__permutation_entropy__dimension_7__tau_1</th>\n",
       "      <th>value__query_similarity_count__query_None__threshold_0.0</th>\n",
       "      <th>value__matrix_profile__feature_\"min\"__threshold_0.98</th>\n",
       "      <th>value__matrix_profile__feature_\"max\"__threshold_0.98</th>\n",
       "      <th>value__matrix_profile__feature_\"mean\"__threshold_0.98</th>\n",
       "      <th>value__matrix_profile__feature_\"median\"__threshold_0.98</th>\n",
       "      <th>value__matrix_profile__feature_\"25\"__threshold_0.98</th>\n",
       "      <th>value__matrix_profile__feature_\"75\"__threshold_0.98</th>\n",
       "    </tr>\n",
       "  </thead>\n",
       "  <tbody>\n",
       "    <tr>\n",
       "      <th>EL1001</th>\n",
       "      <td>1.0</td>\n",
       "      <td>0.0</td>\n",
       "      <td>0.0</td>\n",
       "      <td>1.0</td>\n",
       "      <td>17583.32</td>\n",
       "      <td>2.860106e+05</td>\n",
       "      <td>0.263877</td>\n",
       "      <td>-0.006495</td>\n",
       "      <td>0.000469</td>\n",
       "      <td>6.48</td>\n",
       "      <td>...</td>\n",
       "      <td>1.638009</td>\n",
       "      <td>1.958918</td>\n",
       "      <td>2.260400</td>\n",
       "      <td>NaN</td>\n",
       "      <td>5.574511</td>\n",
       "      <td>8.467860</td>\n",
       "      <td>6.670557</td>\n",
       "      <td>6.612661</td>\n",
       "      <td>6.341505</td>\n",
       "      <td>6.998335</td>\n",
       "    </tr>\n",
       "    <tr>\n",
       "      <th>EL102</th>\n",
       "      <td>1.0</td>\n",
       "      <td>0.0</td>\n",
       "      <td>0.0</td>\n",
       "      <td>1.0</td>\n",
       "      <td>29793.02</td>\n",
       "      <td>6.250443e+05</td>\n",
       "      <td>0.370715</td>\n",
       "      <td>-0.009846</td>\n",
       "      <td>0.000074</td>\n",
       "      <td>13.10</td>\n",
       "      <td>...</td>\n",
       "      <td>1.559883</td>\n",
       "      <td>1.871229</td>\n",
       "      <td>2.184080</td>\n",
       "      <td>NaN</td>\n",
       "      <td>7.984148</td>\n",
       "      <td>11.441423</td>\n",
       "      <td>9.196200</td>\n",
       "      <td>8.938681</td>\n",
       "      <td>8.500162</td>\n",
       "      <td>9.454249</td>\n",
       "    </tr>\n",
       "    <tr>\n",
       "      <th>EL1026</th>\n",
       "      <td>1.0</td>\n",
       "      <td>0.0</td>\n",
       "      <td>0.0</td>\n",
       "      <td>1.0</td>\n",
       "      <td>7473.12</td>\n",
       "      <td>1.905120e+05</td>\n",
       "      <td>0.609720</td>\n",
       "      <td>-0.010978</td>\n",
       "      <td>0.000486</td>\n",
       "      <td>1.22</td>\n",
       "      <td>...</td>\n",
       "      <td>1.951421</td>\n",
       "      <td>2.416741</td>\n",
       "      <td>2.883854</td>\n",
       "      <td>NaN</td>\n",
       "      <td>4.550802</td>\n",
       "      <td>23.192228</td>\n",
       "      <td>11.071811</td>\n",
       "      <td>8.714063</td>\n",
       "      <td>6.992837</td>\n",
       "      <td>15.557422</td>\n",
       "    </tr>\n",
       "    <tr>\n",
       "      <th>EL1029</th>\n",
       "      <td>1.0</td>\n",
       "      <td>0.0</td>\n",
       "      <td>0.0</td>\n",
       "      <td>1.0</td>\n",
       "      <td>29573.70</td>\n",
       "      <td>1.060952e+06</td>\n",
       "      <td>0.526152</td>\n",
       "      <td>0.009605</td>\n",
       "      <td>0.000395</td>\n",
       "      <td>5.87</td>\n",
       "      <td>...</td>\n",
       "      <td>1.934853</td>\n",
       "      <td>2.363008</td>\n",
       "      <td>2.771876</td>\n",
       "      <td>NaN</td>\n",
       "      <td>5.515255</td>\n",
       "      <td>44.403564</td>\n",
       "      <td>10.963022</td>\n",
       "      <td>9.829781</td>\n",
       "      <td>5.722527</td>\n",
       "      <td>10.207241</td>\n",
       "    </tr>\n",
       "    <tr>\n",
       "      <th>EL103</th>\n",
       "      <td>1.0</td>\n",
       "      <td>0.0</td>\n",
       "      <td>0.0</td>\n",
       "      <td>1.0</td>\n",
       "      <td>24137.88</td>\n",
       "      <td>7.409315e+05</td>\n",
       "      <td>0.449548</td>\n",
       "      <td>0.008542</td>\n",
       "      <td>0.000441</td>\n",
       "      <td>4.36</td>\n",
       "      <td>...</td>\n",
       "      <td>1.775199</td>\n",
       "      <td>2.144695</td>\n",
       "      <td>2.487014</td>\n",
       "      <td>NaN</td>\n",
       "      <td>3.350878</td>\n",
       "      <td>41.981772</td>\n",
       "      <td>11.076234</td>\n",
       "      <td>7.324884</td>\n",
       "      <td>6.996517</td>\n",
       "      <td>7.973861</td>\n",
       "    </tr>\n",
       "    <tr>\n",
       "      <th>...</th>\n",
       "      <td>...</td>\n",
       "      <td>...</td>\n",
       "      <td>...</td>\n",
       "      <td>...</td>\n",
       "      <td>...</td>\n",
       "      <td>...</td>\n",
       "      <td>...</td>\n",
       "      <td>...</td>\n",
       "      <td>...</td>\n",
       "      <td>...</td>\n",
       "      <td>...</td>\n",
       "      <td>...</td>\n",
       "      <td>...</td>\n",
       "      <td>...</td>\n",
       "      <td>...</td>\n",
       "      <td>...</td>\n",
       "      <td>...</td>\n",
       "      <td>...</td>\n",
       "      <td>...</td>\n",
       "      <td>...</td>\n",
       "      <td>...</td>\n",
       "    </tr>\n",
       "    <tr>\n",
       "      <th>EL948</th>\n",
       "      <td>1.0</td>\n",
       "      <td>0.0</td>\n",
       "      <td>1.0</td>\n",
       "      <td>1.0</td>\n",
       "      <td>18508.18</td>\n",
       "      <td>3.472364e+05</td>\n",
       "      <td>0.372236</td>\n",
       "      <td>-0.007364</td>\n",
       "      <td>-0.000006</td>\n",
       "      <td>6.57</td>\n",
       "      <td>...</td>\n",
       "      <td>1.582997</td>\n",
       "      <td>1.901125</td>\n",
       "      <td>2.214337</td>\n",
       "      <td>NaN</td>\n",
       "      <td>3.869448</td>\n",
       "      <td>7.829773</td>\n",
       "      <td>5.357624</td>\n",
       "      <td>5.050719</td>\n",
       "      <td>4.335787</td>\n",
       "      <td>6.106811</td>\n",
       "    </tr>\n",
       "    <tr>\n",
       "      <th>EL978</th>\n",
       "      <td>1.0</td>\n",
       "      <td>0.0</td>\n",
       "      <td>0.0</td>\n",
       "      <td>1.0</td>\n",
       "      <td>42451.60</td>\n",
       "      <td>2.189510e+06</td>\n",
       "      <td>0.903259</td>\n",
       "      <td>-0.027284</td>\n",
       "      <td>0.000475</td>\n",
       "      <td>10.25</td>\n",
       "      <td>...</td>\n",
       "      <td>1.672320</td>\n",
       "      <td>2.021096</td>\n",
       "      <td>2.354805</td>\n",
       "      <td>NaN</td>\n",
       "      <td>4.248040</td>\n",
       "      <td>7.901722</td>\n",
       "      <td>5.945856</td>\n",
       "      <td>5.943356</td>\n",
       "      <td>4.993929</td>\n",
       "      <td>7.010825</td>\n",
       "    </tr>\n",
       "    <tr>\n",
       "      <th>HG8707</th>\n",
       "      <td>1.0</td>\n",
       "      <td>0.0</td>\n",
       "      <td>0.0</td>\n",
       "      <td>1.0</td>\n",
       "      <td>635.80</td>\n",
       "      <td>3.475205e+04</td>\n",
       "      <td>0.803122</td>\n",
       "      <td>-0.001521</td>\n",
       "      <td>0.000051</td>\n",
       "      <td>-0.24</td>\n",
       "      <td>...</td>\n",
       "      <td>2.997798</td>\n",
       "      <td>3.860279</td>\n",
       "      <td>4.665168</td>\n",
       "      <td>NaN</td>\n",
       "      <td>3.376056</td>\n",
       "      <td>15.176301</td>\n",
       "      <td>7.358701</td>\n",
       "      <td>4.905353</td>\n",
       "      <td>4.443624</td>\n",
       "      <td>12.774463</td>\n",
       "    </tr>\n",
       "    <tr>\n",
       "      <th>HJ3311</th>\n",
       "      <td>1.0</td>\n",
       "      <td>0.0</td>\n",
       "      <td>0.0</td>\n",
       "      <td>1.0</td>\n",
       "      <td>-3377.56</td>\n",
       "      <td>4.290975e+04</td>\n",
       "      <td>0.524951</td>\n",
       "      <td>0.001795</td>\n",
       "      <td>-0.000080</td>\n",
       "      <td>-2.48</td>\n",
       "      <td>...</td>\n",
       "      <td>2.093372</td>\n",
       "      <td>2.620696</td>\n",
       "      <td>3.124031</td>\n",
       "      <td>NaN</td>\n",
       "      <td>3.919860</td>\n",
       "      <td>11.370129</td>\n",
       "      <td>6.485445</td>\n",
       "      <td>6.683386</td>\n",
       "      <td>4.683756</td>\n",
       "      <td>7.729727</td>\n",
       "    </tr>\n",
       "    <tr>\n",
       "      <th>HK502</th>\n",
       "      <td>1.0</td>\n",
       "      <td>1.0</td>\n",
       "      <td>1.0</td>\n",
       "      <td>1.0</td>\n",
       "      <td>25789.74</td>\n",
       "      <td>6.207971e+05</td>\n",
       "      <td>0.353196</td>\n",
       "      <td>-0.016615</td>\n",
       "      <td>-0.000069</td>\n",
       "      <td>8.48</td>\n",
       "      <td>...</td>\n",
       "      <td>1.209344</td>\n",
       "      <td>1.376879</td>\n",
       "      <td>1.537681</td>\n",
       "      <td>NaN</td>\n",
       "      <td>4.692409</td>\n",
       "      <td>6.734971</td>\n",
       "      <td>5.541955</td>\n",
       "      <td>5.577050</td>\n",
       "      <td>5.442403</td>\n",
       "      <td>5.692489</td>\n",
       "    </tr>\n",
       "  </tbody>\n",
       "</table>\n",
       "<p>116 rows × 787 columns</p>\n",
       "</div>"
      ],
      "text/plain": [
       "        value__variance_larger_than_standard_deviation  \\\n",
       "EL1001                                             1.0   \n",
       "EL102                                              1.0   \n",
       "EL1026                                             1.0   \n",
       "EL1029                                             1.0   \n",
       "EL103                                              1.0   \n",
       "...                                                ...   \n",
       "EL948                                              1.0   \n",
       "EL978                                              1.0   \n",
       "HG8707                                             1.0   \n",
       "HJ3311                                             1.0   \n",
       "HK502                                              1.0   \n",
       "\n",
       "        value__has_duplicate_max  value__has_duplicate_min  \\\n",
       "EL1001                       0.0                       0.0   \n",
       "EL102                        0.0                       0.0   \n",
       "EL1026                       0.0                       0.0   \n",
       "EL1029                       0.0                       0.0   \n",
       "EL103                        0.0                       0.0   \n",
       "...                          ...                       ...   \n",
       "EL948                        0.0                       1.0   \n",
       "EL978                        0.0                       0.0   \n",
       "HG8707                       0.0                       0.0   \n",
       "HJ3311                       0.0                       0.0   \n",
       "HK502                        1.0                       1.0   \n",
       "\n",
       "        value__has_duplicate  value__sum_values  value__abs_energy  \\\n",
       "EL1001                   1.0           17583.32       2.860106e+05   \n",
       "EL102                    1.0           29793.02       6.250443e+05   \n",
       "EL1026                   1.0            7473.12       1.905120e+05   \n",
       "EL1029                   1.0           29573.70       1.060952e+06   \n",
       "EL103                    1.0           24137.88       7.409315e+05   \n",
       "...                      ...                ...                ...   \n",
       "EL948                    1.0           18508.18       3.472364e+05   \n",
       "EL978                    1.0           42451.60       2.189510e+06   \n",
       "HG8707                   1.0             635.80       3.475205e+04   \n",
       "HJ3311                   1.0           -3377.56       4.290975e+04   \n",
       "HK502                    1.0           25789.74       6.207971e+05   \n",
       "\n",
       "        value__mean_abs_change  value__mean_change  \\\n",
       "EL1001                0.263877           -0.006495   \n",
       "EL102                 0.370715           -0.009846   \n",
       "EL1026                0.609720           -0.010978   \n",
       "EL1029                0.526152            0.009605   \n",
       "EL103                 0.449548            0.008542   \n",
       "...                        ...                 ...   \n",
       "EL948                 0.372236           -0.007364   \n",
       "EL978                 0.903259           -0.027284   \n",
       "HG8707                0.803122           -0.001521   \n",
       "HJ3311                0.524951            0.001795   \n",
       "HK502                 0.353196           -0.016615   \n",
       "\n",
       "        value__mean_second_derivative_central  value__median  ...  \\\n",
       "EL1001                               0.000469           6.48  ...   \n",
       "EL102                                0.000074          13.10  ...   \n",
       "EL1026                               0.000486           1.22  ...   \n",
       "EL1029                               0.000395           5.87  ...   \n",
       "EL103                                0.000441           4.36  ...   \n",
       "...                                       ...            ...  ...   \n",
       "EL948                               -0.000006           6.57  ...   \n",
       "EL978                                0.000475          10.25  ...   \n",
       "HG8707                               0.000051          -0.24  ...   \n",
       "HJ3311                              -0.000080          -2.48  ...   \n",
       "HK502                               -0.000069           8.48  ...   \n",
       "\n",
       "        value__permutation_entropy__dimension_5__tau_1  \\\n",
       "EL1001                                        1.638009   \n",
       "EL102                                         1.559883   \n",
       "EL1026                                        1.951421   \n",
       "EL1029                                        1.934853   \n",
       "EL103                                         1.775199   \n",
       "...                                                ...   \n",
       "EL948                                         1.582997   \n",
       "EL978                                         1.672320   \n",
       "HG8707                                        2.997798   \n",
       "HJ3311                                        2.093372   \n",
       "HK502                                         1.209344   \n",
       "\n",
       "        value__permutation_entropy__dimension_6__tau_1  \\\n",
       "EL1001                                        1.958918   \n",
       "EL102                                         1.871229   \n",
       "EL1026                                        2.416741   \n",
       "EL1029                                        2.363008   \n",
       "EL103                                         2.144695   \n",
       "...                                                ...   \n",
       "EL948                                         1.901125   \n",
       "EL978                                         2.021096   \n",
       "HG8707                                        3.860279   \n",
       "HJ3311                                        2.620696   \n",
       "HK502                                         1.376879   \n",
       "\n",
       "        value__permutation_entropy__dimension_7__tau_1  \\\n",
       "EL1001                                        2.260400   \n",
       "EL102                                         2.184080   \n",
       "EL1026                                        2.883854   \n",
       "EL1029                                        2.771876   \n",
       "EL103                                         2.487014   \n",
       "...                                                ...   \n",
       "EL948                                         2.214337   \n",
       "EL978                                         2.354805   \n",
       "HG8707                                        4.665168   \n",
       "HJ3311                                        3.124031   \n",
       "HK502                                         1.537681   \n",
       "\n",
       "        value__query_similarity_count__query_None__threshold_0.0  \\\n",
       "EL1001                                                NaN          \n",
       "EL102                                                 NaN          \n",
       "EL1026                                                NaN          \n",
       "EL1029                                                NaN          \n",
       "EL103                                                 NaN          \n",
       "...                                                   ...          \n",
       "EL948                                                 NaN          \n",
       "EL978                                                 NaN          \n",
       "HG8707                                                NaN          \n",
       "HJ3311                                                NaN          \n",
       "HK502                                                 NaN          \n",
       "\n",
       "        value__matrix_profile__feature_\"min\"__threshold_0.98  \\\n",
       "EL1001                                           5.574511      \n",
       "EL102                                            7.984148      \n",
       "EL1026                                           4.550802      \n",
       "EL1029                                           5.515255      \n",
       "EL103                                            3.350878      \n",
       "...                                                   ...      \n",
       "EL948                                            3.869448      \n",
       "EL978                                            4.248040      \n",
       "HG8707                                           3.376056      \n",
       "HJ3311                                           3.919860      \n",
       "HK502                                            4.692409      \n",
       "\n",
       "        value__matrix_profile__feature_\"max\"__threshold_0.98  \\\n",
       "EL1001                                           8.467860      \n",
       "EL102                                           11.441423      \n",
       "EL1026                                          23.192228      \n",
       "EL1029                                          44.403564      \n",
       "EL103                                           41.981772      \n",
       "...                                                   ...      \n",
       "EL948                                            7.829773      \n",
       "EL978                                            7.901722      \n",
       "HG8707                                          15.176301      \n",
       "HJ3311                                          11.370129      \n",
       "HK502                                            6.734971      \n",
       "\n",
       "        value__matrix_profile__feature_\"mean\"__threshold_0.98  \\\n",
       "EL1001                                           6.670557       \n",
       "EL102                                            9.196200       \n",
       "EL1026                                          11.071811       \n",
       "EL1029                                          10.963022       \n",
       "EL103                                           11.076234       \n",
       "...                                                   ...       \n",
       "EL948                                            5.357624       \n",
       "EL978                                            5.945856       \n",
       "HG8707                                           7.358701       \n",
       "HJ3311                                           6.485445       \n",
       "HK502                                            5.541955       \n",
       "\n",
       "        value__matrix_profile__feature_\"median\"__threshold_0.98  \\\n",
       "EL1001                                           6.612661         \n",
       "EL102                                            8.938681         \n",
       "EL1026                                           8.714063         \n",
       "EL1029                                           9.829781         \n",
       "EL103                                            7.324884         \n",
       "...                                                   ...         \n",
       "EL948                                            5.050719         \n",
       "EL978                                            5.943356         \n",
       "HG8707                                           4.905353         \n",
       "HJ3311                                           6.683386         \n",
       "HK502                                            5.577050         \n",
       "\n",
       "        value__matrix_profile__feature_\"25\"__threshold_0.98  \\\n",
       "EL1001                                           6.341505     \n",
       "EL102                                            8.500162     \n",
       "EL1026                                           6.992837     \n",
       "EL1029                                           5.722527     \n",
       "EL103                                            6.996517     \n",
       "...                                                   ...     \n",
       "EL948                                            4.335787     \n",
       "EL978                                            4.993929     \n",
       "HG8707                                           4.443624     \n",
       "HJ3311                                           4.683756     \n",
       "HK502                                            5.442403     \n",
       "\n",
       "        value__matrix_profile__feature_\"75\"__threshold_0.98  \n",
       "EL1001                                           6.998335    \n",
       "EL102                                            9.454249    \n",
       "EL1026                                          15.557422    \n",
       "EL1029                                          10.207241    \n",
       "EL103                                            7.973861    \n",
       "...                                                   ...    \n",
       "EL948                                            6.106811    \n",
       "EL978                                            7.010825    \n",
       "HG8707                                          12.774463    \n",
       "HJ3311                                           7.729727    \n",
       "HK502                                            5.692489    \n",
       "\n",
       "[116 rows x 787 columns]"
      ]
     },
     "execution_count": 49,
     "metadata": {},
     "output_type": "execute_result"
    }
   ],
   "source": [
    "extracted_features"
   ]
  },
  {
   "cell_type": "code",
   "execution_count": 50,
   "id": "f00db5f2-8526-4b76-ac96-21d7f4633033",
   "metadata": {},
   "outputs": [
    {
     "name": "stderr",
     "output_type": "stream",
     "text": [
      "C:\\Users\\andre\\miniconda3\\envs\\epahClassification\\lib\\site-packages\\tsfresh\\utilities\\dataframe_functions.py:171: RuntimeWarning: The columns ['value__query_similarity_count__query_None__threshold_0.0'] did not have any finite values. Filling with zeros.\n",
      "  warnings.warn(\"The columns {} did not have any finite values. Filling with zeros.\".format(\n"
     ]
    }
   ],
   "source": [
    "from tsfresh import select_features\n",
    "from tsfresh.utilities.dataframe_functions import impute\n",
    "\n",
    "impute(extracted_features)\n",
    "features_filtered = select_features(extracted_features, y_df)\n"
   ]
  },
  {
   "cell_type": "code",
   "execution_count": 51,
   "id": "74322bfd-c587-4b4e-86e1-cab307da0e6a",
   "metadata": {},
   "outputs": [
    {
     "data": {
      "text/html": [
       "<div>\n",
       "<style scoped>\n",
       "    .dataframe tbody tr th:only-of-type {\n",
       "        vertical-align: middle;\n",
       "    }\n",
       "\n",
       "    .dataframe tbody tr th {\n",
       "        vertical-align: top;\n",
       "    }\n",
       "\n",
       "    .dataframe thead th {\n",
       "        text-align: right;\n",
       "    }\n",
       "</style>\n",
       "<table border=\"1\" class=\"dataframe\">\n",
       "  <thead>\n",
       "    <tr style=\"text-align: right;\">\n",
       "      <th></th>\n",
       "    </tr>\n",
       "  </thead>\n",
       "  <tbody>\n",
       "    <tr>\n",
       "      <th>EL1001</th>\n",
       "    </tr>\n",
       "    <tr>\n",
       "      <th>EL102</th>\n",
       "    </tr>\n",
       "    <tr>\n",
       "      <th>EL1026</th>\n",
       "    </tr>\n",
       "    <tr>\n",
       "      <th>EL1029</th>\n",
       "    </tr>\n",
       "    <tr>\n",
       "      <th>EL103</th>\n",
       "    </tr>\n",
       "    <tr>\n",
       "      <th>...</th>\n",
       "    </tr>\n",
       "    <tr>\n",
       "      <th>EL948</th>\n",
       "    </tr>\n",
       "    <tr>\n",
       "      <th>EL978</th>\n",
       "    </tr>\n",
       "    <tr>\n",
       "      <th>HG8707</th>\n",
       "    </tr>\n",
       "    <tr>\n",
       "      <th>HJ3311</th>\n",
       "    </tr>\n",
       "    <tr>\n",
       "      <th>HK502</th>\n",
       "    </tr>\n",
       "  </tbody>\n",
       "</table>\n",
       "<p>116 rows × 0 columns</p>\n",
       "</div>"
      ],
      "text/plain": [
       "Empty DataFrame\n",
       "Columns: []\n",
       "Index: [EL1001, EL102, EL1026, EL1029, EL103, EL1038, EL104, EL1051, EL1052, EL1053, EL1060, EL1062, EL107, EL1072, EL1079, EL1082, EL1083, EL1095, EL1108, EL1120, EL1134, EL114, EL1145, EL115, EL1151, EL118, EL120, EL1223, EL126, EL127, EL1308, EL131, EL1323, EL1326, EL135, EL140, EL143, EL152, EL154, EL155, EL156, EL157, EL162, EL170, EL177, EL195, EL200, EL206, EL249, EL252, EL254, EL290, EL401, EL411, EL413, EL421, EL436, EL442, EL447, EL451, EL452, EL455, EL457, EL459, EL461, EL480, EL486, EL489, EL505, EL514, EL527, EL529, EL555, EL565, EL580, EL583, EL585, EL604, EL627, EL632, EL640, EL643, EL648, EL675, EL679, EL682, EL698, EL699, EL721, EL737, EL750, EL763, EL764, EL771, EL772, EL807, EL809, EL818, EL82, EL833, ...]\n",
       "\n",
       "[116 rows x 0 columns]"
      ]
     },
     "execution_count": 51,
     "metadata": {},
     "output_type": "execute_result"
    }
   ],
   "source": [
    "features_filtered"
   ]
  },
  {
   "cell_type": "code",
   "execution_count": 76,
   "id": "fa03eab9-ce63-4594-821a-b19e10006e82",
   "metadata": {},
   "outputs": [
    {
     "data": {
      "text/plain": [
       "['value__variance_larger_than_standard_deviation',\n",
       " 'value__has_duplicate_max',\n",
       " 'value__has_duplicate_min',\n",
       " 'value__has_duplicate',\n",
       " 'value__sum_values',\n",
       " 'value__abs_energy',\n",
       " 'value__mean_abs_change',\n",
       " 'value__mean_change',\n",
       " 'value__mean_second_derivative_central',\n",
       " 'value__median',\n",
       " 'value__mean',\n",
       " 'value__length',\n",
       " 'value__standard_deviation',\n",
       " 'value__variation_coefficient',\n",
       " 'value__variance',\n",
       " 'value__skewness',\n",
       " 'value__kurtosis',\n",
       " 'value__root_mean_square',\n",
       " 'value__absolute_sum_of_changes',\n",
       " 'value__longest_strike_below_mean',\n",
       " 'value__longest_strike_above_mean',\n",
       " 'value__count_above_mean',\n",
       " 'value__count_below_mean',\n",
       " 'value__last_location_of_maximum',\n",
       " 'value__first_location_of_maximum',\n",
       " 'value__last_location_of_minimum',\n",
       " 'value__first_location_of_minimum',\n",
       " 'value__percentage_of_reoccurring_values_to_all_values',\n",
       " 'value__percentage_of_reoccurring_datapoints_to_all_datapoints',\n",
       " 'value__sum_of_reoccurring_values',\n",
       " 'value__sum_of_reoccurring_data_points',\n",
       " 'value__ratio_value_number_to_time_series_length',\n",
       " 'value__sample_entropy',\n",
       " 'value__maximum',\n",
       " 'value__minimum',\n",
       " 'value__benford_correlation',\n",
       " 'value__time_reversal_asymmetry_statistic__lag_1',\n",
       " 'value__time_reversal_asymmetry_statistic__lag_2',\n",
       " 'value__time_reversal_asymmetry_statistic__lag_3',\n",
       " 'value__c3__lag_1',\n",
       " 'value__c3__lag_2',\n",
       " 'value__c3__lag_3',\n",
       " 'value__cid_ce__normalize_True',\n",
       " 'value__cid_ce__normalize_False',\n",
       " 'value__symmetry_looking__r_0.0',\n",
       " 'value__symmetry_looking__r_0.05',\n",
       " 'value__symmetry_looking__r_0.1',\n",
       " 'value__symmetry_looking__r_0.15000000000000002',\n",
       " 'value__symmetry_looking__r_0.2',\n",
       " 'value__symmetry_looking__r_0.25',\n",
       " 'value__symmetry_looking__r_0.30000000000000004',\n",
       " 'value__symmetry_looking__r_0.35000000000000003',\n",
       " 'value__symmetry_looking__r_0.4',\n",
       " 'value__symmetry_looking__r_0.45',\n",
       " 'value__symmetry_looking__r_0.5',\n",
       " 'value__symmetry_looking__r_0.55',\n",
       " 'value__symmetry_looking__r_0.6000000000000001',\n",
       " 'value__symmetry_looking__r_0.65',\n",
       " 'value__symmetry_looking__r_0.7000000000000001',\n",
       " 'value__symmetry_looking__r_0.75',\n",
       " 'value__symmetry_looking__r_0.8',\n",
       " 'value__symmetry_looking__r_0.8500000000000001',\n",
       " 'value__symmetry_looking__r_0.9',\n",
       " 'value__symmetry_looking__r_0.9500000000000001',\n",
       " 'value__large_standard_deviation__r_0.05',\n",
       " 'value__large_standard_deviation__r_0.1',\n",
       " 'value__large_standard_deviation__r_0.15000000000000002',\n",
       " 'value__large_standard_deviation__r_0.2',\n",
       " 'value__large_standard_deviation__r_0.25',\n",
       " 'value__large_standard_deviation__r_0.30000000000000004',\n",
       " 'value__large_standard_deviation__r_0.35000000000000003',\n",
       " 'value__large_standard_deviation__r_0.4',\n",
       " 'value__large_standard_deviation__r_0.45',\n",
       " 'value__large_standard_deviation__r_0.5',\n",
       " 'value__large_standard_deviation__r_0.55',\n",
       " 'value__large_standard_deviation__r_0.6000000000000001',\n",
       " 'value__large_standard_deviation__r_0.65',\n",
       " 'value__large_standard_deviation__r_0.7000000000000001',\n",
       " 'value__large_standard_deviation__r_0.75',\n",
       " 'value__large_standard_deviation__r_0.8',\n",
       " 'value__large_standard_deviation__r_0.8500000000000001',\n",
       " 'value__large_standard_deviation__r_0.9',\n",
       " 'value__large_standard_deviation__r_0.9500000000000001',\n",
       " 'value__quantile__q_0.1',\n",
       " 'value__quantile__q_0.2',\n",
       " 'value__quantile__q_0.3',\n",
       " 'value__quantile__q_0.4',\n",
       " 'value__quantile__q_0.6',\n",
       " 'value__quantile__q_0.7',\n",
       " 'value__quantile__q_0.8',\n",
       " 'value__quantile__q_0.9',\n",
       " 'value__autocorrelation__lag_0',\n",
       " 'value__autocorrelation__lag_1',\n",
       " 'value__autocorrelation__lag_2',\n",
       " 'value__autocorrelation__lag_3',\n",
       " 'value__autocorrelation__lag_4',\n",
       " 'value__autocorrelation__lag_5',\n",
       " 'value__autocorrelation__lag_6',\n",
       " 'value__autocorrelation__lag_7',\n",
       " 'value__autocorrelation__lag_8',\n",
       " 'value__autocorrelation__lag_9',\n",
       " 'value__agg_autocorrelation__f_agg_\"mean\"__maxlag_40',\n",
       " 'value__agg_autocorrelation__f_agg_\"median\"__maxlag_40',\n",
       " 'value__agg_autocorrelation__f_agg_\"var\"__maxlag_40',\n",
       " 'value__partial_autocorrelation__lag_0',\n",
       " 'value__partial_autocorrelation__lag_1',\n",
       " 'value__partial_autocorrelation__lag_2',\n",
       " 'value__partial_autocorrelation__lag_3',\n",
       " 'value__partial_autocorrelation__lag_4',\n",
       " 'value__partial_autocorrelation__lag_5',\n",
       " 'value__partial_autocorrelation__lag_6',\n",
       " 'value__partial_autocorrelation__lag_7',\n",
       " 'value__partial_autocorrelation__lag_8',\n",
       " 'value__partial_autocorrelation__lag_9',\n",
       " 'value__number_cwt_peaks__n_1',\n",
       " 'value__number_cwt_peaks__n_5',\n",
       " 'value__number_peaks__n_1',\n",
       " 'value__number_peaks__n_3',\n",
       " 'value__number_peaks__n_5',\n",
       " 'value__number_peaks__n_10',\n",
       " 'value__number_peaks__n_50',\n",
       " 'value__binned_entropy__max_bins_10',\n",
       " 'value__index_mass_quantile__q_0.1',\n",
       " 'value__index_mass_quantile__q_0.2',\n",
       " 'value__index_mass_quantile__q_0.3',\n",
       " 'value__index_mass_quantile__q_0.4',\n",
       " 'value__index_mass_quantile__q_0.6',\n",
       " 'value__index_mass_quantile__q_0.7',\n",
       " 'value__index_mass_quantile__q_0.8',\n",
       " 'value__index_mass_quantile__q_0.9',\n",
       " 'value__cwt_coefficients__coeff_0__w_2__widths_(2, 5, 10, 20)',\n",
       " 'value__cwt_coefficients__coeff_0__w_5__widths_(2, 5, 10, 20)',\n",
       " 'value__cwt_coefficients__coeff_0__w_10__widths_(2, 5, 10, 20)',\n",
       " 'value__cwt_coefficients__coeff_0__w_20__widths_(2, 5, 10, 20)',\n",
       " 'value__cwt_coefficients__coeff_1__w_2__widths_(2, 5, 10, 20)',\n",
       " 'value__cwt_coefficients__coeff_1__w_5__widths_(2, 5, 10, 20)',\n",
       " 'value__cwt_coefficients__coeff_1__w_10__widths_(2, 5, 10, 20)',\n",
       " 'value__cwt_coefficients__coeff_1__w_20__widths_(2, 5, 10, 20)',\n",
       " 'value__cwt_coefficients__coeff_2__w_2__widths_(2, 5, 10, 20)',\n",
       " 'value__cwt_coefficients__coeff_2__w_5__widths_(2, 5, 10, 20)',\n",
       " 'value__cwt_coefficients__coeff_2__w_10__widths_(2, 5, 10, 20)',\n",
       " 'value__cwt_coefficients__coeff_2__w_20__widths_(2, 5, 10, 20)',\n",
       " 'value__cwt_coefficients__coeff_3__w_2__widths_(2, 5, 10, 20)',\n",
       " 'value__cwt_coefficients__coeff_3__w_5__widths_(2, 5, 10, 20)',\n",
       " 'value__cwt_coefficients__coeff_3__w_10__widths_(2, 5, 10, 20)',\n",
       " 'value__cwt_coefficients__coeff_3__w_20__widths_(2, 5, 10, 20)',\n",
       " 'value__cwt_coefficients__coeff_4__w_2__widths_(2, 5, 10, 20)',\n",
       " 'value__cwt_coefficients__coeff_4__w_5__widths_(2, 5, 10, 20)',\n",
       " 'value__cwt_coefficients__coeff_4__w_10__widths_(2, 5, 10, 20)',\n",
       " 'value__cwt_coefficients__coeff_4__w_20__widths_(2, 5, 10, 20)',\n",
       " 'value__cwt_coefficients__coeff_5__w_2__widths_(2, 5, 10, 20)',\n",
       " 'value__cwt_coefficients__coeff_5__w_5__widths_(2, 5, 10, 20)',\n",
       " 'value__cwt_coefficients__coeff_5__w_10__widths_(2, 5, 10, 20)',\n",
       " 'value__cwt_coefficients__coeff_5__w_20__widths_(2, 5, 10, 20)',\n",
       " 'value__cwt_coefficients__coeff_6__w_2__widths_(2, 5, 10, 20)',\n",
       " 'value__cwt_coefficients__coeff_6__w_5__widths_(2, 5, 10, 20)',\n",
       " 'value__cwt_coefficients__coeff_6__w_10__widths_(2, 5, 10, 20)',\n",
       " 'value__cwt_coefficients__coeff_6__w_20__widths_(2, 5, 10, 20)',\n",
       " 'value__cwt_coefficients__coeff_7__w_2__widths_(2, 5, 10, 20)',\n",
       " 'value__cwt_coefficients__coeff_7__w_5__widths_(2, 5, 10, 20)',\n",
       " 'value__cwt_coefficients__coeff_7__w_10__widths_(2, 5, 10, 20)',\n",
       " 'value__cwt_coefficients__coeff_7__w_20__widths_(2, 5, 10, 20)',\n",
       " 'value__cwt_coefficients__coeff_8__w_2__widths_(2, 5, 10, 20)',\n",
       " 'value__cwt_coefficients__coeff_8__w_5__widths_(2, 5, 10, 20)',\n",
       " 'value__cwt_coefficients__coeff_8__w_10__widths_(2, 5, 10, 20)',\n",
       " 'value__cwt_coefficients__coeff_8__w_20__widths_(2, 5, 10, 20)',\n",
       " 'value__cwt_coefficients__coeff_9__w_2__widths_(2, 5, 10, 20)',\n",
       " 'value__cwt_coefficients__coeff_9__w_5__widths_(2, 5, 10, 20)',\n",
       " 'value__cwt_coefficients__coeff_9__w_10__widths_(2, 5, 10, 20)',\n",
       " 'value__cwt_coefficients__coeff_9__w_20__widths_(2, 5, 10, 20)',\n",
       " 'value__cwt_coefficients__coeff_10__w_2__widths_(2, 5, 10, 20)',\n",
       " 'value__cwt_coefficients__coeff_10__w_5__widths_(2, 5, 10, 20)',\n",
       " 'value__cwt_coefficients__coeff_10__w_10__widths_(2, 5, 10, 20)',\n",
       " 'value__cwt_coefficients__coeff_10__w_20__widths_(2, 5, 10, 20)',\n",
       " 'value__cwt_coefficients__coeff_11__w_2__widths_(2, 5, 10, 20)',\n",
       " 'value__cwt_coefficients__coeff_11__w_5__widths_(2, 5, 10, 20)',\n",
       " 'value__cwt_coefficients__coeff_11__w_10__widths_(2, 5, 10, 20)',\n",
       " 'value__cwt_coefficients__coeff_11__w_20__widths_(2, 5, 10, 20)',\n",
       " 'value__cwt_coefficients__coeff_12__w_2__widths_(2, 5, 10, 20)',\n",
       " 'value__cwt_coefficients__coeff_12__w_5__widths_(2, 5, 10, 20)',\n",
       " 'value__cwt_coefficients__coeff_12__w_10__widths_(2, 5, 10, 20)',\n",
       " 'value__cwt_coefficients__coeff_12__w_20__widths_(2, 5, 10, 20)',\n",
       " 'value__cwt_coefficients__coeff_13__w_2__widths_(2, 5, 10, 20)',\n",
       " 'value__cwt_coefficients__coeff_13__w_5__widths_(2, 5, 10, 20)',\n",
       " 'value__cwt_coefficients__coeff_13__w_10__widths_(2, 5, 10, 20)',\n",
       " 'value__cwt_coefficients__coeff_13__w_20__widths_(2, 5, 10, 20)',\n",
       " 'value__cwt_coefficients__coeff_14__w_2__widths_(2, 5, 10, 20)',\n",
       " 'value__cwt_coefficients__coeff_14__w_5__widths_(2, 5, 10, 20)',\n",
       " 'value__cwt_coefficients__coeff_14__w_10__widths_(2, 5, 10, 20)',\n",
       " 'value__cwt_coefficients__coeff_14__w_20__widths_(2, 5, 10, 20)',\n",
       " 'value__spkt_welch_density__coeff_2',\n",
       " 'value__spkt_welch_density__coeff_5',\n",
       " 'value__spkt_welch_density__coeff_8',\n",
       " 'value__ar_coefficient__coeff_0__k_10',\n",
       " 'value__ar_coefficient__coeff_1__k_10',\n",
       " 'value__ar_coefficient__coeff_2__k_10',\n",
       " 'value__ar_coefficient__coeff_3__k_10',\n",
       " 'value__ar_coefficient__coeff_4__k_10',\n",
       " 'value__ar_coefficient__coeff_5__k_10',\n",
       " 'value__ar_coefficient__coeff_6__k_10',\n",
       " 'value__ar_coefficient__coeff_7__k_10',\n",
       " 'value__ar_coefficient__coeff_8__k_10',\n",
       " 'value__ar_coefficient__coeff_9__k_10',\n",
       " 'value__ar_coefficient__coeff_10__k_10',\n",
       " 'value__change_quantiles__f_agg_\"mean\"__isabs_False__qh_0.2__ql_0.0',\n",
       " 'value__change_quantiles__f_agg_\"var\"__isabs_False__qh_0.2__ql_0.0',\n",
       " 'value__change_quantiles__f_agg_\"mean\"__isabs_True__qh_0.2__ql_0.0',\n",
       " 'value__change_quantiles__f_agg_\"var\"__isabs_True__qh_0.2__ql_0.0',\n",
       " 'value__change_quantiles__f_agg_\"mean\"__isabs_False__qh_0.4__ql_0.0',\n",
       " 'value__change_quantiles__f_agg_\"var\"__isabs_False__qh_0.4__ql_0.0',\n",
       " 'value__change_quantiles__f_agg_\"mean\"__isabs_True__qh_0.4__ql_0.0',\n",
       " 'value__change_quantiles__f_agg_\"var\"__isabs_True__qh_0.4__ql_0.0',\n",
       " 'value__change_quantiles__f_agg_\"mean\"__isabs_False__qh_0.6__ql_0.0',\n",
       " 'value__change_quantiles__f_agg_\"var\"__isabs_False__qh_0.6__ql_0.0',\n",
       " 'value__change_quantiles__f_agg_\"mean\"__isabs_True__qh_0.6__ql_0.0',\n",
       " 'value__change_quantiles__f_agg_\"var\"__isabs_True__qh_0.6__ql_0.0',\n",
       " 'value__change_quantiles__f_agg_\"mean\"__isabs_False__qh_0.8__ql_0.0',\n",
       " 'value__change_quantiles__f_agg_\"var\"__isabs_False__qh_0.8__ql_0.0',\n",
       " 'value__change_quantiles__f_agg_\"mean\"__isabs_True__qh_0.8__ql_0.0',\n",
       " 'value__change_quantiles__f_agg_\"var\"__isabs_True__qh_0.8__ql_0.0',\n",
       " 'value__change_quantiles__f_agg_\"mean\"__isabs_False__qh_1.0__ql_0.0',\n",
       " 'value__change_quantiles__f_agg_\"var\"__isabs_False__qh_1.0__ql_0.0',\n",
       " 'value__change_quantiles__f_agg_\"mean\"__isabs_True__qh_1.0__ql_0.0',\n",
       " 'value__change_quantiles__f_agg_\"var\"__isabs_True__qh_1.0__ql_0.0',\n",
       " 'value__change_quantiles__f_agg_\"mean\"__isabs_False__qh_0.4__ql_0.2',\n",
       " 'value__change_quantiles__f_agg_\"var\"__isabs_False__qh_0.4__ql_0.2',\n",
       " 'value__change_quantiles__f_agg_\"mean\"__isabs_True__qh_0.4__ql_0.2',\n",
       " 'value__change_quantiles__f_agg_\"var\"__isabs_True__qh_0.4__ql_0.2',\n",
       " 'value__change_quantiles__f_agg_\"mean\"__isabs_False__qh_0.6__ql_0.2',\n",
       " 'value__change_quantiles__f_agg_\"var\"__isabs_False__qh_0.6__ql_0.2',\n",
       " 'value__change_quantiles__f_agg_\"mean\"__isabs_True__qh_0.6__ql_0.2',\n",
       " 'value__change_quantiles__f_agg_\"var\"__isabs_True__qh_0.6__ql_0.2',\n",
       " 'value__change_quantiles__f_agg_\"mean\"__isabs_False__qh_0.8__ql_0.2',\n",
       " 'value__change_quantiles__f_agg_\"var\"__isabs_False__qh_0.8__ql_0.2',\n",
       " 'value__change_quantiles__f_agg_\"mean\"__isabs_True__qh_0.8__ql_0.2',\n",
       " 'value__change_quantiles__f_agg_\"var\"__isabs_True__qh_0.8__ql_0.2',\n",
       " 'value__change_quantiles__f_agg_\"mean\"__isabs_False__qh_1.0__ql_0.2',\n",
       " 'value__change_quantiles__f_agg_\"var\"__isabs_False__qh_1.0__ql_0.2',\n",
       " 'value__change_quantiles__f_agg_\"mean\"__isabs_True__qh_1.0__ql_0.2',\n",
       " 'value__change_quantiles__f_agg_\"var\"__isabs_True__qh_1.0__ql_0.2',\n",
       " 'value__change_quantiles__f_agg_\"mean\"__isabs_False__qh_0.6__ql_0.4',\n",
       " 'value__change_quantiles__f_agg_\"var\"__isabs_False__qh_0.6__ql_0.4',\n",
       " 'value__change_quantiles__f_agg_\"mean\"__isabs_True__qh_0.6__ql_0.4',\n",
       " 'value__change_quantiles__f_agg_\"var\"__isabs_True__qh_0.6__ql_0.4',\n",
       " 'value__change_quantiles__f_agg_\"mean\"__isabs_False__qh_0.8__ql_0.4',\n",
       " 'value__change_quantiles__f_agg_\"var\"__isabs_False__qh_0.8__ql_0.4',\n",
       " 'value__change_quantiles__f_agg_\"mean\"__isabs_True__qh_0.8__ql_0.4',\n",
       " 'value__change_quantiles__f_agg_\"var\"__isabs_True__qh_0.8__ql_0.4',\n",
       " 'value__change_quantiles__f_agg_\"mean\"__isabs_False__qh_1.0__ql_0.4',\n",
       " 'value__change_quantiles__f_agg_\"var\"__isabs_False__qh_1.0__ql_0.4',\n",
       " 'value__change_quantiles__f_agg_\"mean\"__isabs_True__qh_1.0__ql_0.4',\n",
       " 'value__change_quantiles__f_agg_\"var\"__isabs_True__qh_1.0__ql_0.4',\n",
       " 'value__change_quantiles__f_agg_\"mean\"__isabs_False__qh_0.8__ql_0.6',\n",
       " 'value__change_quantiles__f_agg_\"var\"__isabs_False__qh_0.8__ql_0.6',\n",
       " 'value__change_quantiles__f_agg_\"mean\"__isabs_True__qh_0.8__ql_0.6',\n",
       " 'value__change_quantiles__f_agg_\"var\"__isabs_True__qh_0.8__ql_0.6',\n",
       " 'value__change_quantiles__f_agg_\"mean\"__isabs_False__qh_1.0__ql_0.6',\n",
       " 'value__change_quantiles__f_agg_\"var\"__isabs_False__qh_1.0__ql_0.6',\n",
       " 'value__change_quantiles__f_agg_\"mean\"__isabs_True__qh_1.0__ql_0.6',\n",
       " 'value__change_quantiles__f_agg_\"var\"__isabs_True__qh_1.0__ql_0.6',\n",
       " 'value__change_quantiles__f_agg_\"mean\"__isabs_False__qh_1.0__ql_0.8',\n",
       " 'value__change_quantiles__f_agg_\"var\"__isabs_False__qh_1.0__ql_0.8',\n",
       " 'value__change_quantiles__f_agg_\"mean\"__isabs_True__qh_1.0__ql_0.8',\n",
       " 'value__change_quantiles__f_agg_\"var\"__isabs_True__qh_1.0__ql_0.8',\n",
       " 'value__fft_coefficient__attr_\"real\"__coeff_0',\n",
       " 'value__fft_coefficient__attr_\"real\"__coeff_1',\n",
       " 'value__fft_coefficient__attr_\"real\"__coeff_2',\n",
       " 'value__fft_coefficient__attr_\"real\"__coeff_3',\n",
       " 'value__fft_coefficient__attr_\"real\"__coeff_4',\n",
       " 'value__fft_coefficient__attr_\"real\"__coeff_5',\n",
       " 'value__fft_coefficient__attr_\"real\"__coeff_6',\n",
       " 'value__fft_coefficient__attr_\"real\"__coeff_7',\n",
       " 'value__fft_coefficient__attr_\"real\"__coeff_8',\n",
       " 'value__fft_coefficient__attr_\"real\"__coeff_9',\n",
       " 'value__fft_coefficient__attr_\"real\"__coeff_10',\n",
       " 'value__fft_coefficient__attr_\"real\"__coeff_11',\n",
       " 'value__fft_coefficient__attr_\"real\"__coeff_12',\n",
       " 'value__fft_coefficient__attr_\"real\"__coeff_13',\n",
       " 'value__fft_coefficient__attr_\"real\"__coeff_14',\n",
       " 'value__fft_coefficient__attr_\"real\"__coeff_15',\n",
       " 'value__fft_coefficient__attr_\"real\"__coeff_16',\n",
       " 'value__fft_coefficient__attr_\"real\"__coeff_17',\n",
       " 'value__fft_coefficient__attr_\"real\"__coeff_18',\n",
       " 'value__fft_coefficient__attr_\"real\"__coeff_19',\n",
       " 'value__fft_coefficient__attr_\"real\"__coeff_20',\n",
       " 'value__fft_coefficient__attr_\"real\"__coeff_21',\n",
       " 'value__fft_coefficient__attr_\"real\"__coeff_22',\n",
       " 'value__fft_coefficient__attr_\"real\"__coeff_23',\n",
       " 'value__fft_coefficient__attr_\"real\"__coeff_24',\n",
       " 'value__fft_coefficient__attr_\"real\"__coeff_25',\n",
       " 'value__fft_coefficient__attr_\"real\"__coeff_26',\n",
       " 'value__fft_coefficient__attr_\"real\"__coeff_27',\n",
       " 'value__fft_coefficient__attr_\"real\"__coeff_28',\n",
       " 'value__fft_coefficient__attr_\"real\"__coeff_29',\n",
       " 'value__fft_coefficient__attr_\"real\"__coeff_30',\n",
       " 'value__fft_coefficient__attr_\"real\"__coeff_31',\n",
       " 'value__fft_coefficient__attr_\"real\"__coeff_32',\n",
       " 'value__fft_coefficient__attr_\"real\"__coeff_33',\n",
       " 'value__fft_coefficient__attr_\"real\"__coeff_34',\n",
       " 'value__fft_coefficient__attr_\"real\"__coeff_35',\n",
       " 'value__fft_coefficient__attr_\"real\"__coeff_36',\n",
       " 'value__fft_coefficient__attr_\"real\"__coeff_37',\n",
       " 'value__fft_coefficient__attr_\"real\"__coeff_38',\n",
       " 'value__fft_coefficient__attr_\"real\"__coeff_39',\n",
       " 'value__fft_coefficient__attr_\"real\"__coeff_40',\n",
       " 'value__fft_coefficient__attr_\"real\"__coeff_41',\n",
       " 'value__fft_coefficient__attr_\"real\"__coeff_42',\n",
       " 'value__fft_coefficient__attr_\"real\"__coeff_43',\n",
       " 'value__fft_coefficient__attr_\"real\"__coeff_44',\n",
       " 'value__fft_coefficient__attr_\"real\"__coeff_45',\n",
       " 'value__fft_coefficient__attr_\"real\"__coeff_46',\n",
       " 'value__fft_coefficient__attr_\"real\"__coeff_47',\n",
       " 'value__fft_coefficient__attr_\"real\"__coeff_48',\n",
       " 'value__fft_coefficient__attr_\"real\"__coeff_49',\n",
       " 'value__fft_coefficient__attr_\"real\"__coeff_50',\n",
       " 'value__fft_coefficient__attr_\"real\"__coeff_51',\n",
       " 'value__fft_coefficient__attr_\"real\"__coeff_52',\n",
       " 'value__fft_coefficient__attr_\"real\"__coeff_53',\n",
       " 'value__fft_coefficient__attr_\"real\"__coeff_54',\n",
       " 'value__fft_coefficient__attr_\"real\"__coeff_55',\n",
       " 'value__fft_coefficient__attr_\"real\"__coeff_56',\n",
       " 'value__fft_coefficient__attr_\"real\"__coeff_57',\n",
       " 'value__fft_coefficient__attr_\"real\"__coeff_58',\n",
       " 'value__fft_coefficient__attr_\"real\"__coeff_59',\n",
       " 'value__fft_coefficient__attr_\"real\"__coeff_60',\n",
       " 'value__fft_coefficient__attr_\"real\"__coeff_61',\n",
       " 'value__fft_coefficient__attr_\"real\"__coeff_62',\n",
       " 'value__fft_coefficient__attr_\"real\"__coeff_63',\n",
       " 'value__fft_coefficient__attr_\"real\"__coeff_64',\n",
       " 'value__fft_coefficient__attr_\"real\"__coeff_65',\n",
       " 'value__fft_coefficient__attr_\"real\"__coeff_66',\n",
       " 'value__fft_coefficient__attr_\"real\"__coeff_67',\n",
       " 'value__fft_coefficient__attr_\"real\"__coeff_68',\n",
       " 'value__fft_coefficient__attr_\"real\"__coeff_69',\n",
       " 'value__fft_coefficient__attr_\"real\"__coeff_70',\n",
       " 'value__fft_coefficient__attr_\"real\"__coeff_71',\n",
       " 'value__fft_coefficient__attr_\"real\"__coeff_72',\n",
       " 'value__fft_coefficient__attr_\"real\"__coeff_73',\n",
       " 'value__fft_coefficient__attr_\"real\"__coeff_74',\n",
       " 'value__fft_coefficient__attr_\"real\"__coeff_75',\n",
       " 'value__fft_coefficient__attr_\"real\"__coeff_76',\n",
       " 'value__fft_coefficient__attr_\"real\"__coeff_77',\n",
       " 'value__fft_coefficient__attr_\"real\"__coeff_78',\n",
       " 'value__fft_coefficient__attr_\"real\"__coeff_79',\n",
       " 'value__fft_coefficient__attr_\"real\"__coeff_80',\n",
       " 'value__fft_coefficient__attr_\"real\"__coeff_81',\n",
       " 'value__fft_coefficient__attr_\"real\"__coeff_82',\n",
       " 'value__fft_coefficient__attr_\"real\"__coeff_83',\n",
       " 'value__fft_coefficient__attr_\"real\"__coeff_84',\n",
       " 'value__fft_coefficient__attr_\"real\"__coeff_85',\n",
       " 'value__fft_coefficient__attr_\"real\"__coeff_86',\n",
       " 'value__fft_coefficient__attr_\"real\"__coeff_87',\n",
       " 'value__fft_coefficient__attr_\"real\"__coeff_88',\n",
       " 'value__fft_coefficient__attr_\"real\"__coeff_89',\n",
       " 'value__fft_coefficient__attr_\"real\"__coeff_90',\n",
       " 'value__fft_coefficient__attr_\"real\"__coeff_91',\n",
       " 'value__fft_coefficient__attr_\"real\"__coeff_92',\n",
       " 'value__fft_coefficient__attr_\"real\"__coeff_93',\n",
       " 'value__fft_coefficient__attr_\"real\"__coeff_94',\n",
       " 'value__fft_coefficient__attr_\"real\"__coeff_95',\n",
       " 'value__fft_coefficient__attr_\"real\"__coeff_96',\n",
       " 'value__fft_coefficient__attr_\"real\"__coeff_97',\n",
       " 'value__fft_coefficient__attr_\"real\"__coeff_98',\n",
       " 'value__fft_coefficient__attr_\"real\"__coeff_99',\n",
       " 'value__fft_coefficient__attr_\"imag\"__coeff_0',\n",
       " 'value__fft_coefficient__attr_\"imag\"__coeff_1',\n",
       " 'value__fft_coefficient__attr_\"imag\"__coeff_2',\n",
       " 'value__fft_coefficient__attr_\"imag\"__coeff_3',\n",
       " 'value__fft_coefficient__attr_\"imag\"__coeff_4',\n",
       " 'value__fft_coefficient__attr_\"imag\"__coeff_5',\n",
       " 'value__fft_coefficient__attr_\"imag\"__coeff_6',\n",
       " 'value__fft_coefficient__attr_\"imag\"__coeff_7',\n",
       " 'value__fft_coefficient__attr_\"imag\"__coeff_8',\n",
       " 'value__fft_coefficient__attr_\"imag\"__coeff_9',\n",
       " 'value__fft_coefficient__attr_\"imag\"__coeff_10',\n",
       " 'value__fft_coefficient__attr_\"imag\"__coeff_11',\n",
       " 'value__fft_coefficient__attr_\"imag\"__coeff_12',\n",
       " 'value__fft_coefficient__attr_\"imag\"__coeff_13',\n",
       " 'value__fft_coefficient__attr_\"imag\"__coeff_14',\n",
       " 'value__fft_coefficient__attr_\"imag\"__coeff_15',\n",
       " 'value__fft_coefficient__attr_\"imag\"__coeff_16',\n",
       " 'value__fft_coefficient__attr_\"imag\"__coeff_17',\n",
       " 'value__fft_coefficient__attr_\"imag\"__coeff_18',\n",
       " 'value__fft_coefficient__attr_\"imag\"__coeff_19',\n",
       " 'value__fft_coefficient__attr_\"imag\"__coeff_20',\n",
       " 'value__fft_coefficient__attr_\"imag\"__coeff_21',\n",
       " 'value__fft_coefficient__attr_\"imag\"__coeff_22',\n",
       " 'value__fft_coefficient__attr_\"imag\"__coeff_23',\n",
       " 'value__fft_coefficient__attr_\"imag\"__coeff_24',\n",
       " 'value__fft_coefficient__attr_\"imag\"__coeff_25',\n",
       " 'value__fft_coefficient__attr_\"imag\"__coeff_26',\n",
       " 'value__fft_coefficient__attr_\"imag\"__coeff_27',\n",
       " 'value__fft_coefficient__attr_\"imag\"__coeff_28',\n",
       " 'value__fft_coefficient__attr_\"imag\"__coeff_29',\n",
       " 'value__fft_coefficient__attr_\"imag\"__coeff_30',\n",
       " 'value__fft_coefficient__attr_\"imag\"__coeff_31',\n",
       " 'value__fft_coefficient__attr_\"imag\"__coeff_32',\n",
       " 'value__fft_coefficient__attr_\"imag\"__coeff_33',\n",
       " 'value__fft_coefficient__attr_\"imag\"__coeff_34',\n",
       " 'value__fft_coefficient__attr_\"imag\"__coeff_35',\n",
       " 'value__fft_coefficient__attr_\"imag\"__coeff_36',\n",
       " 'value__fft_coefficient__attr_\"imag\"__coeff_37',\n",
       " 'value__fft_coefficient__attr_\"imag\"__coeff_38',\n",
       " 'value__fft_coefficient__attr_\"imag\"__coeff_39',\n",
       " 'value__fft_coefficient__attr_\"imag\"__coeff_40',\n",
       " 'value__fft_coefficient__attr_\"imag\"__coeff_41',\n",
       " 'value__fft_coefficient__attr_\"imag\"__coeff_42',\n",
       " 'value__fft_coefficient__attr_\"imag\"__coeff_43',\n",
       " 'value__fft_coefficient__attr_\"imag\"__coeff_44',\n",
       " 'value__fft_coefficient__attr_\"imag\"__coeff_45',\n",
       " 'value__fft_coefficient__attr_\"imag\"__coeff_46',\n",
       " 'value__fft_coefficient__attr_\"imag\"__coeff_47',\n",
       " 'value__fft_coefficient__attr_\"imag\"__coeff_48',\n",
       " 'value__fft_coefficient__attr_\"imag\"__coeff_49',\n",
       " 'value__fft_coefficient__attr_\"imag\"__coeff_50',\n",
       " 'value__fft_coefficient__attr_\"imag\"__coeff_51',\n",
       " 'value__fft_coefficient__attr_\"imag\"__coeff_52',\n",
       " 'value__fft_coefficient__attr_\"imag\"__coeff_53',\n",
       " 'value__fft_coefficient__attr_\"imag\"__coeff_54',\n",
       " 'value__fft_coefficient__attr_\"imag\"__coeff_55',\n",
       " 'value__fft_coefficient__attr_\"imag\"__coeff_56',\n",
       " 'value__fft_coefficient__attr_\"imag\"__coeff_57',\n",
       " 'value__fft_coefficient__attr_\"imag\"__coeff_58',\n",
       " 'value__fft_coefficient__attr_\"imag\"__coeff_59',\n",
       " 'value__fft_coefficient__attr_\"imag\"__coeff_60',\n",
       " 'value__fft_coefficient__attr_\"imag\"__coeff_61',\n",
       " 'value__fft_coefficient__attr_\"imag\"__coeff_62',\n",
       " 'value__fft_coefficient__attr_\"imag\"__coeff_63',\n",
       " 'value__fft_coefficient__attr_\"imag\"__coeff_64',\n",
       " 'value__fft_coefficient__attr_\"imag\"__coeff_65',\n",
       " 'value__fft_coefficient__attr_\"imag\"__coeff_66',\n",
       " 'value__fft_coefficient__attr_\"imag\"__coeff_67',\n",
       " 'value__fft_coefficient__attr_\"imag\"__coeff_68',\n",
       " 'value__fft_coefficient__attr_\"imag\"__coeff_69',\n",
       " 'value__fft_coefficient__attr_\"imag\"__coeff_70',\n",
       " 'value__fft_coefficient__attr_\"imag\"__coeff_71',\n",
       " 'value__fft_coefficient__attr_\"imag\"__coeff_72',\n",
       " 'value__fft_coefficient__attr_\"imag\"__coeff_73',\n",
       " 'value__fft_coefficient__attr_\"imag\"__coeff_74',\n",
       " 'value__fft_coefficient__attr_\"imag\"__coeff_75',\n",
       " 'value__fft_coefficient__attr_\"imag\"__coeff_76',\n",
       " 'value__fft_coefficient__attr_\"imag\"__coeff_77',\n",
       " 'value__fft_coefficient__attr_\"imag\"__coeff_78',\n",
       " 'value__fft_coefficient__attr_\"imag\"__coeff_79',\n",
       " 'value__fft_coefficient__attr_\"imag\"__coeff_80',\n",
       " 'value__fft_coefficient__attr_\"imag\"__coeff_81',\n",
       " 'value__fft_coefficient__attr_\"imag\"__coeff_82',\n",
       " 'value__fft_coefficient__attr_\"imag\"__coeff_83',\n",
       " 'value__fft_coefficient__attr_\"imag\"__coeff_84',\n",
       " 'value__fft_coefficient__attr_\"imag\"__coeff_85',\n",
       " 'value__fft_coefficient__attr_\"imag\"__coeff_86',\n",
       " 'value__fft_coefficient__attr_\"imag\"__coeff_87',\n",
       " 'value__fft_coefficient__attr_\"imag\"__coeff_88',\n",
       " 'value__fft_coefficient__attr_\"imag\"__coeff_89',\n",
       " 'value__fft_coefficient__attr_\"imag\"__coeff_90',\n",
       " 'value__fft_coefficient__attr_\"imag\"__coeff_91',\n",
       " 'value__fft_coefficient__attr_\"imag\"__coeff_92',\n",
       " 'value__fft_coefficient__attr_\"imag\"__coeff_93',\n",
       " 'value__fft_coefficient__attr_\"imag\"__coeff_94',\n",
       " 'value__fft_coefficient__attr_\"imag\"__coeff_95',\n",
       " 'value__fft_coefficient__attr_\"imag\"__coeff_96',\n",
       " 'value__fft_coefficient__attr_\"imag\"__coeff_97',\n",
       " 'value__fft_coefficient__attr_\"imag\"__coeff_98',\n",
       " 'value__fft_coefficient__attr_\"imag\"__coeff_99',\n",
       " 'value__fft_coefficient__attr_\"abs\"__coeff_0',\n",
       " 'value__fft_coefficient__attr_\"abs\"__coeff_1',\n",
       " 'value__fft_coefficient__attr_\"abs\"__coeff_2',\n",
       " 'value__fft_coefficient__attr_\"abs\"__coeff_3',\n",
       " 'value__fft_coefficient__attr_\"abs\"__coeff_4',\n",
       " 'value__fft_coefficient__attr_\"abs\"__coeff_5',\n",
       " 'value__fft_coefficient__attr_\"abs\"__coeff_6',\n",
       " 'value__fft_coefficient__attr_\"abs\"__coeff_7',\n",
       " 'value__fft_coefficient__attr_\"abs\"__coeff_8',\n",
       " 'value__fft_coefficient__attr_\"abs\"__coeff_9',\n",
       " 'value__fft_coefficient__attr_\"abs\"__coeff_10',\n",
       " 'value__fft_coefficient__attr_\"abs\"__coeff_11',\n",
       " 'value__fft_coefficient__attr_\"abs\"__coeff_12',\n",
       " 'value__fft_coefficient__attr_\"abs\"__coeff_13',\n",
       " 'value__fft_coefficient__attr_\"abs\"__coeff_14',\n",
       " 'value__fft_coefficient__attr_\"abs\"__coeff_15',\n",
       " 'value__fft_coefficient__attr_\"abs\"__coeff_16',\n",
       " 'value__fft_coefficient__attr_\"abs\"__coeff_17',\n",
       " 'value__fft_coefficient__attr_\"abs\"__coeff_18',\n",
       " 'value__fft_coefficient__attr_\"abs\"__coeff_19',\n",
       " 'value__fft_coefficient__attr_\"abs\"__coeff_20',\n",
       " 'value__fft_coefficient__attr_\"abs\"__coeff_21',\n",
       " 'value__fft_coefficient__attr_\"abs\"__coeff_22',\n",
       " 'value__fft_coefficient__attr_\"abs\"__coeff_23',\n",
       " 'value__fft_coefficient__attr_\"abs\"__coeff_24',\n",
       " 'value__fft_coefficient__attr_\"abs\"__coeff_25',\n",
       " 'value__fft_coefficient__attr_\"abs\"__coeff_26',\n",
       " 'value__fft_coefficient__attr_\"abs\"__coeff_27',\n",
       " 'value__fft_coefficient__attr_\"abs\"__coeff_28',\n",
       " 'value__fft_coefficient__attr_\"abs\"__coeff_29',\n",
       " 'value__fft_coefficient__attr_\"abs\"__coeff_30',\n",
       " 'value__fft_coefficient__attr_\"abs\"__coeff_31',\n",
       " 'value__fft_coefficient__attr_\"abs\"__coeff_32',\n",
       " 'value__fft_coefficient__attr_\"abs\"__coeff_33',\n",
       " 'value__fft_coefficient__attr_\"abs\"__coeff_34',\n",
       " 'value__fft_coefficient__attr_\"abs\"__coeff_35',\n",
       " 'value__fft_coefficient__attr_\"abs\"__coeff_36',\n",
       " 'value__fft_coefficient__attr_\"abs\"__coeff_37',\n",
       " 'value__fft_coefficient__attr_\"abs\"__coeff_38',\n",
       " 'value__fft_coefficient__attr_\"abs\"__coeff_39',\n",
       " 'value__fft_coefficient__attr_\"abs\"__coeff_40',\n",
       " 'value__fft_coefficient__attr_\"abs\"__coeff_41',\n",
       " 'value__fft_coefficient__attr_\"abs\"__coeff_42',\n",
       " 'value__fft_coefficient__attr_\"abs\"__coeff_43',\n",
       " 'value__fft_coefficient__attr_\"abs\"__coeff_44',\n",
       " 'value__fft_coefficient__attr_\"abs\"__coeff_45',\n",
       " 'value__fft_coefficient__attr_\"abs\"__coeff_46',\n",
       " 'value__fft_coefficient__attr_\"abs\"__coeff_47',\n",
       " 'value__fft_coefficient__attr_\"abs\"__coeff_48',\n",
       " 'value__fft_coefficient__attr_\"abs\"__coeff_49',\n",
       " 'value__fft_coefficient__attr_\"abs\"__coeff_50',\n",
       " 'value__fft_coefficient__attr_\"abs\"__coeff_51',\n",
       " 'value__fft_coefficient__attr_\"abs\"__coeff_52',\n",
       " 'value__fft_coefficient__attr_\"abs\"__coeff_53',\n",
       " 'value__fft_coefficient__attr_\"abs\"__coeff_54',\n",
       " 'value__fft_coefficient__attr_\"abs\"__coeff_55',\n",
       " 'value__fft_coefficient__attr_\"abs\"__coeff_56',\n",
       " 'value__fft_coefficient__attr_\"abs\"__coeff_57',\n",
       " 'value__fft_coefficient__attr_\"abs\"__coeff_58',\n",
       " 'value__fft_coefficient__attr_\"abs\"__coeff_59',\n",
       " 'value__fft_coefficient__attr_\"abs\"__coeff_60',\n",
       " 'value__fft_coefficient__attr_\"abs\"__coeff_61',\n",
       " 'value__fft_coefficient__attr_\"abs\"__coeff_62',\n",
       " 'value__fft_coefficient__attr_\"abs\"__coeff_63',\n",
       " 'value__fft_coefficient__attr_\"abs\"__coeff_64',\n",
       " 'value__fft_coefficient__attr_\"abs\"__coeff_65',\n",
       " 'value__fft_coefficient__attr_\"abs\"__coeff_66',\n",
       " 'value__fft_coefficient__attr_\"abs\"__coeff_67',\n",
       " 'value__fft_coefficient__attr_\"abs\"__coeff_68',\n",
       " 'value__fft_coefficient__attr_\"abs\"__coeff_69',\n",
       " 'value__fft_coefficient__attr_\"abs\"__coeff_70',\n",
       " 'value__fft_coefficient__attr_\"abs\"__coeff_71',\n",
       " 'value__fft_coefficient__attr_\"abs\"__coeff_72',\n",
       " 'value__fft_coefficient__attr_\"abs\"__coeff_73',\n",
       " 'value__fft_coefficient__attr_\"abs\"__coeff_74',\n",
       " 'value__fft_coefficient__attr_\"abs\"__coeff_75',\n",
       " 'value__fft_coefficient__attr_\"abs\"__coeff_76',\n",
       " 'value__fft_coefficient__attr_\"abs\"__coeff_77',\n",
       " 'value__fft_coefficient__attr_\"abs\"__coeff_78',\n",
       " 'value__fft_coefficient__attr_\"abs\"__coeff_79',\n",
       " 'value__fft_coefficient__attr_\"abs\"__coeff_80',\n",
       " 'value__fft_coefficient__attr_\"abs\"__coeff_81',\n",
       " 'value__fft_coefficient__attr_\"abs\"__coeff_82',\n",
       " 'value__fft_coefficient__attr_\"abs\"__coeff_83',\n",
       " 'value__fft_coefficient__attr_\"abs\"__coeff_84',\n",
       " 'value__fft_coefficient__attr_\"abs\"__coeff_85',\n",
       " 'value__fft_coefficient__attr_\"abs\"__coeff_86',\n",
       " 'value__fft_coefficient__attr_\"abs\"__coeff_87',\n",
       " 'value__fft_coefficient__attr_\"abs\"__coeff_88',\n",
       " 'value__fft_coefficient__attr_\"abs\"__coeff_89',\n",
       " 'value__fft_coefficient__attr_\"abs\"__coeff_90',\n",
       " 'value__fft_coefficient__attr_\"abs\"__coeff_91',\n",
       " 'value__fft_coefficient__attr_\"abs\"__coeff_92',\n",
       " 'value__fft_coefficient__attr_\"abs\"__coeff_93',\n",
       " 'value__fft_coefficient__attr_\"abs\"__coeff_94',\n",
       " 'value__fft_coefficient__attr_\"abs\"__coeff_95',\n",
       " 'value__fft_coefficient__attr_\"abs\"__coeff_96',\n",
       " 'value__fft_coefficient__attr_\"abs\"__coeff_97',\n",
       " 'value__fft_coefficient__attr_\"abs\"__coeff_98',\n",
       " 'value__fft_coefficient__attr_\"abs\"__coeff_99',\n",
       " 'value__fft_coefficient__attr_\"angle\"__coeff_0',\n",
       " 'value__fft_coefficient__attr_\"angle\"__coeff_1',\n",
       " 'value__fft_coefficient__attr_\"angle\"__coeff_2',\n",
       " 'value__fft_coefficient__attr_\"angle\"__coeff_3',\n",
       " 'value__fft_coefficient__attr_\"angle\"__coeff_4',\n",
       " 'value__fft_coefficient__attr_\"angle\"__coeff_5',\n",
       " 'value__fft_coefficient__attr_\"angle\"__coeff_6',\n",
       " 'value__fft_coefficient__attr_\"angle\"__coeff_7',\n",
       " 'value__fft_coefficient__attr_\"angle\"__coeff_8',\n",
       " 'value__fft_coefficient__attr_\"angle\"__coeff_9',\n",
       " 'value__fft_coefficient__attr_\"angle\"__coeff_10',\n",
       " 'value__fft_coefficient__attr_\"angle\"__coeff_11',\n",
       " 'value__fft_coefficient__attr_\"angle\"__coeff_12',\n",
       " 'value__fft_coefficient__attr_\"angle\"__coeff_13',\n",
       " 'value__fft_coefficient__attr_\"angle\"__coeff_14',\n",
       " 'value__fft_coefficient__attr_\"angle\"__coeff_15',\n",
       " 'value__fft_coefficient__attr_\"angle\"__coeff_16',\n",
       " 'value__fft_coefficient__attr_\"angle\"__coeff_17',\n",
       " 'value__fft_coefficient__attr_\"angle\"__coeff_18',\n",
       " 'value__fft_coefficient__attr_\"angle\"__coeff_19',\n",
       " 'value__fft_coefficient__attr_\"angle\"__coeff_20',\n",
       " 'value__fft_coefficient__attr_\"angle\"__coeff_21',\n",
       " 'value__fft_coefficient__attr_\"angle\"__coeff_22',\n",
       " 'value__fft_coefficient__attr_\"angle\"__coeff_23',\n",
       " 'value__fft_coefficient__attr_\"angle\"__coeff_24',\n",
       " 'value__fft_coefficient__attr_\"angle\"__coeff_25',\n",
       " 'value__fft_coefficient__attr_\"angle\"__coeff_26',\n",
       " 'value__fft_coefficient__attr_\"angle\"__coeff_27',\n",
       " 'value__fft_coefficient__attr_\"angle\"__coeff_28',\n",
       " 'value__fft_coefficient__attr_\"angle\"__coeff_29',\n",
       " 'value__fft_coefficient__attr_\"angle\"__coeff_30',\n",
       " 'value__fft_coefficient__attr_\"angle\"__coeff_31',\n",
       " 'value__fft_coefficient__attr_\"angle\"__coeff_32',\n",
       " 'value__fft_coefficient__attr_\"angle\"__coeff_33',\n",
       " 'value__fft_coefficient__attr_\"angle\"__coeff_34',\n",
       " 'value__fft_coefficient__attr_\"angle\"__coeff_35',\n",
       " 'value__fft_coefficient__attr_\"angle\"__coeff_36',\n",
       " 'value__fft_coefficient__attr_\"angle\"__coeff_37',\n",
       " 'value__fft_coefficient__attr_\"angle\"__coeff_38',\n",
       " 'value__fft_coefficient__attr_\"angle\"__coeff_39',\n",
       " 'value__fft_coefficient__attr_\"angle\"__coeff_40',\n",
       " 'value__fft_coefficient__attr_\"angle\"__coeff_41',\n",
       " 'value__fft_coefficient__attr_\"angle\"__coeff_42',\n",
       " 'value__fft_coefficient__attr_\"angle\"__coeff_43',\n",
       " 'value__fft_coefficient__attr_\"angle\"__coeff_44',\n",
       " 'value__fft_coefficient__attr_\"angle\"__coeff_45',\n",
       " 'value__fft_coefficient__attr_\"angle\"__coeff_46',\n",
       " 'value__fft_coefficient__attr_\"angle\"__coeff_47',\n",
       " 'value__fft_coefficient__attr_\"angle\"__coeff_48',\n",
       " 'value__fft_coefficient__attr_\"angle\"__coeff_49',\n",
       " 'value__fft_coefficient__attr_\"angle\"__coeff_50',\n",
       " 'value__fft_coefficient__attr_\"angle\"__coeff_51',\n",
       " 'value__fft_coefficient__attr_\"angle\"__coeff_52',\n",
       " 'value__fft_coefficient__attr_\"angle\"__coeff_53',\n",
       " 'value__fft_coefficient__attr_\"angle\"__coeff_54',\n",
       " 'value__fft_coefficient__attr_\"angle\"__coeff_55',\n",
       " 'value__fft_coefficient__attr_\"angle\"__coeff_56',\n",
       " 'value__fft_coefficient__attr_\"angle\"__coeff_57',\n",
       " 'value__fft_coefficient__attr_\"angle\"__coeff_58',\n",
       " 'value__fft_coefficient__attr_\"angle\"__coeff_59',\n",
       " 'value__fft_coefficient__attr_\"angle\"__coeff_60',\n",
       " 'value__fft_coefficient__attr_\"angle\"__coeff_61',\n",
       " 'value__fft_coefficient__attr_\"angle\"__coeff_62',\n",
       " 'value__fft_coefficient__attr_\"angle\"__coeff_63',\n",
       " 'value__fft_coefficient__attr_\"angle\"__coeff_64',\n",
       " 'value__fft_coefficient__attr_\"angle\"__coeff_65',\n",
       " 'value__fft_coefficient__attr_\"angle\"__coeff_66',\n",
       " 'value__fft_coefficient__attr_\"angle\"__coeff_67',\n",
       " 'value__fft_coefficient__attr_\"angle\"__coeff_68',\n",
       " 'value__fft_coefficient__attr_\"angle\"__coeff_69',\n",
       " 'value__fft_coefficient__attr_\"angle\"__coeff_70',\n",
       " 'value__fft_coefficient__attr_\"angle\"__coeff_71',\n",
       " 'value__fft_coefficient__attr_\"angle\"__coeff_72',\n",
       " 'value__fft_coefficient__attr_\"angle\"__coeff_73',\n",
       " 'value__fft_coefficient__attr_\"angle\"__coeff_74',\n",
       " 'value__fft_coefficient__attr_\"angle\"__coeff_75',\n",
       " 'value__fft_coefficient__attr_\"angle\"__coeff_76',\n",
       " 'value__fft_coefficient__attr_\"angle\"__coeff_77',\n",
       " 'value__fft_coefficient__attr_\"angle\"__coeff_78',\n",
       " 'value__fft_coefficient__attr_\"angle\"__coeff_79',\n",
       " 'value__fft_coefficient__attr_\"angle\"__coeff_80',\n",
       " 'value__fft_coefficient__attr_\"angle\"__coeff_81',\n",
       " 'value__fft_coefficient__attr_\"angle\"__coeff_82',\n",
       " 'value__fft_coefficient__attr_\"angle\"__coeff_83',\n",
       " 'value__fft_coefficient__attr_\"angle\"__coeff_84',\n",
       " 'value__fft_coefficient__attr_\"angle\"__coeff_85',\n",
       " 'value__fft_coefficient__attr_\"angle\"__coeff_86',\n",
       " 'value__fft_coefficient__attr_\"angle\"__coeff_87',\n",
       " 'value__fft_coefficient__attr_\"angle\"__coeff_88',\n",
       " 'value__fft_coefficient__attr_\"angle\"__coeff_89',\n",
       " 'value__fft_coefficient__attr_\"angle\"__coeff_90',\n",
       " 'value__fft_coefficient__attr_\"angle\"__coeff_91',\n",
       " 'value__fft_coefficient__attr_\"angle\"__coeff_92',\n",
       " 'value__fft_coefficient__attr_\"angle\"__coeff_93',\n",
       " 'value__fft_coefficient__attr_\"angle\"__coeff_94',\n",
       " 'value__fft_coefficient__attr_\"angle\"__coeff_95',\n",
       " 'value__fft_coefficient__attr_\"angle\"__coeff_96',\n",
       " 'value__fft_coefficient__attr_\"angle\"__coeff_97',\n",
       " 'value__fft_coefficient__attr_\"angle\"__coeff_98',\n",
       " 'value__fft_coefficient__attr_\"angle\"__coeff_99',\n",
       " 'value__fft_aggregated__aggtype_\"centroid\"',\n",
       " 'value__fft_aggregated__aggtype_\"variance\"',\n",
       " 'value__fft_aggregated__aggtype_\"skew\"',\n",
       " 'value__fft_aggregated__aggtype_\"kurtosis\"',\n",
       " 'value__value_count__value_0',\n",
       " 'value__value_count__value_1',\n",
       " 'value__value_count__value_-1',\n",
       " 'value__range_count__max_1__min_-1',\n",
       " 'value__range_count__max_0__min_1000000000000.0',\n",
       " 'value__range_count__max_1000000000000.0__min_0',\n",
       " 'value__approximate_entropy__m_2__r_0.1',\n",
       " 'value__approximate_entropy__m_2__r_0.3',\n",
       " 'value__approximate_entropy__m_2__r_0.5',\n",
       " 'value__approximate_entropy__m_2__r_0.7',\n",
       " 'value__approximate_entropy__m_2__r_0.9',\n",
       " 'value__friedrich_coefficients__coeff_0__m_3__r_30',\n",
       " 'value__friedrich_coefficients__coeff_1__m_3__r_30',\n",
       " 'value__friedrich_coefficients__coeff_2__m_3__r_30',\n",
       " 'value__friedrich_coefficients__coeff_3__m_3__r_30',\n",
       " 'value__max_langevin_fixed_point__m_3__r_30',\n",
       " 'value__linear_trend__attr_\"pvalue\"',\n",
       " 'value__linear_trend__attr_\"rvalue\"',\n",
       " 'value__linear_trend__attr_\"intercept\"',\n",
       " 'value__linear_trend__attr_\"slope\"',\n",
       " 'value__linear_trend__attr_\"stderr\"',\n",
       " 'value__agg_linear_trend__attr_\"rvalue\"__chunk_len_5__f_agg_\"max\"',\n",
       " 'value__agg_linear_trend__attr_\"rvalue\"__chunk_len_5__f_agg_\"min\"',\n",
       " 'value__agg_linear_trend__attr_\"rvalue\"__chunk_len_5__f_agg_\"mean\"',\n",
       " 'value__agg_linear_trend__attr_\"rvalue\"__chunk_len_5__f_agg_\"var\"',\n",
       " 'value__agg_linear_trend__attr_\"rvalue\"__chunk_len_10__f_agg_\"max\"',\n",
       " 'value__agg_linear_trend__attr_\"rvalue\"__chunk_len_10__f_agg_\"min\"',\n",
       " 'value__agg_linear_trend__attr_\"rvalue\"__chunk_len_10__f_agg_\"mean\"',\n",
       " 'value__agg_linear_trend__attr_\"rvalue\"__chunk_len_10__f_agg_\"var\"',\n",
       " 'value__agg_linear_trend__attr_\"rvalue\"__chunk_len_50__f_agg_\"max\"',\n",
       " 'value__agg_linear_trend__attr_\"rvalue\"__chunk_len_50__f_agg_\"min\"',\n",
       " 'value__agg_linear_trend__attr_\"rvalue\"__chunk_len_50__f_agg_\"mean\"',\n",
       " 'value__agg_linear_trend__attr_\"rvalue\"__chunk_len_50__f_agg_\"var\"',\n",
       " 'value__agg_linear_trend__attr_\"intercept\"__chunk_len_5__f_agg_\"max\"',\n",
       " 'value__agg_linear_trend__attr_\"intercept\"__chunk_len_5__f_agg_\"min\"',\n",
       " 'value__agg_linear_trend__attr_\"intercept\"__chunk_len_5__f_agg_\"mean\"',\n",
       " 'value__agg_linear_trend__attr_\"intercept\"__chunk_len_5__f_agg_\"var\"',\n",
       " 'value__agg_linear_trend__attr_\"intercept\"__chunk_len_10__f_agg_\"max\"',\n",
       " 'value__agg_linear_trend__attr_\"intercept\"__chunk_len_10__f_agg_\"min\"',\n",
       " 'value__agg_linear_trend__attr_\"intercept\"__chunk_len_10__f_agg_\"mean\"',\n",
       " 'value__agg_linear_trend__attr_\"intercept\"__chunk_len_10__f_agg_\"var\"',\n",
       " 'value__agg_linear_trend__attr_\"intercept\"__chunk_len_50__f_agg_\"max\"',\n",
       " 'value__agg_linear_trend__attr_\"intercept\"__chunk_len_50__f_agg_\"min\"',\n",
       " 'value__agg_linear_trend__attr_\"intercept\"__chunk_len_50__f_agg_\"mean\"',\n",
       " 'value__agg_linear_trend__attr_\"intercept\"__chunk_len_50__f_agg_\"var\"',\n",
       " 'value__agg_linear_trend__attr_\"slope\"__chunk_len_5__f_agg_\"max\"',\n",
       " 'value__agg_linear_trend__attr_\"slope\"__chunk_len_5__f_agg_\"min\"',\n",
       " 'value__agg_linear_trend__attr_\"slope\"__chunk_len_5__f_agg_\"mean\"',\n",
       " 'value__agg_linear_trend__attr_\"slope\"__chunk_len_5__f_agg_\"var\"',\n",
       " 'value__agg_linear_trend__attr_\"slope\"__chunk_len_10__f_agg_\"max\"',\n",
       " 'value__agg_linear_trend__attr_\"slope\"__chunk_len_10__f_agg_\"min\"',\n",
       " 'value__agg_linear_trend__attr_\"slope\"__chunk_len_10__f_agg_\"mean\"',\n",
       " 'value__agg_linear_trend__attr_\"slope\"__chunk_len_10__f_agg_\"var\"',\n",
       " 'value__agg_linear_trend__attr_\"slope\"__chunk_len_50__f_agg_\"max\"',\n",
       " 'value__agg_linear_trend__attr_\"slope\"__chunk_len_50__f_agg_\"min\"',\n",
       " 'value__agg_linear_trend__attr_\"slope\"__chunk_len_50__f_agg_\"mean\"',\n",
       " 'value__agg_linear_trend__attr_\"slope\"__chunk_len_50__f_agg_\"var\"',\n",
       " 'value__agg_linear_trend__attr_\"stderr\"__chunk_len_5__f_agg_\"max\"',\n",
       " 'value__agg_linear_trend__attr_\"stderr\"__chunk_len_5__f_agg_\"min\"',\n",
       " 'value__agg_linear_trend__attr_\"stderr\"__chunk_len_5__f_agg_\"mean\"',\n",
       " 'value__agg_linear_trend__attr_\"stderr\"__chunk_len_5__f_agg_\"var\"',\n",
       " 'value__agg_linear_trend__attr_\"stderr\"__chunk_len_10__f_agg_\"max\"',\n",
       " 'value__agg_linear_trend__attr_\"stderr\"__chunk_len_10__f_agg_\"min\"',\n",
       " 'value__agg_linear_trend__attr_\"stderr\"__chunk_len_10__f_agg_\"mean\"',\n",
       " 'value__agg_linear_trend__attr_\"stderr\"__chunk_len_10__f_agg_\"var\"',\n",
       " 'value__agg_linear_trend__attr_\"stderr\"__chunk_len_50__f_agg_\"max\"',\n",
       " 'value__agg_linear_trend__attr_\"stderr\"__chunk_len_50__f_agg_\"min\"',\n",
       " 'value__agg_linear_trend__attr_\"stderr\"__chunk_len_50__f_agg_\"mean\"',\n",
       " 'value__agg_linear_trend__attr_\"stderr\"__chunk_len_50__f_agg_\"var\"',\n",
       " 'value__augmented_dickey_fuller__attr_\"teststat\"__autolag_\"AIC\"',\n",
       " 'value__augmented_dickey_fuller__attr_\"pvalue\"__autolag_\"AIC\"',\n",
       " 'value__augmented_dickey_fuller__attr_\"usedlag\"__autolag_\"AIC\"',\n",
       " 'value__number_crossing_m__m_0',\n",
       " 'value__number_crossing_m__m_-1',\n",
       " 'value__number_crossing_m__m_1',\n",
       " 'value__energy_ratio_by_chunks__num_segments_10__segment_focus_0',\n",
       " 'value__energy_ratio_by_chunks__num_segments_10__segment_focus_1',\n",
       " 'value__energy_ratio_by_chunks__num_segments_10__segment_focus_2',\n",
       " 'value__energy_ratio_by_chunks__num_segments_10__segment_focus_3',\n",
       " 'value__energy_ratio_by_chunks__num_segments_10__segment_focus_4',\n",
       " 'value__energy_ratio_by_chunks__num_segments_10__segment_focus_5',\n",
       " 'value__energy_ratio_by_chunks__num_segments_10__segment_focus_6',\n",
       " 'value__energy_ratio_by_chunks__num_segments_10__segment_focus_7',\n",
       " 'value__energy_ratio_by_chunks__num_segments_10__segment_focus_8',\n",
       " 'value__energy_ratio_by_chunks__num_segments_10__segment_focus_9',\n",
       " 'value__ratio_beyond_r_sigma__r_0.5',\n",
       " 'value__ratio_beyond_r_sigma__r_1',\n",
       " 'value__ratio_beyond_r_sigma__r_1.5',\n",
       " 'value__ratio_beyond_r_sigma__r_2',\n",
       " 'value__ratio_beyond_r_sigma__r_2.5',\n",
       " 'value__ratio_beyond_r_sigma__r_3',\n",
       " 'value__ratio_beyond_r_sigma__r_5',\n",
       " 'value__ratio_beyond_r_sigma__r_6',\n",
       " 'value__ratio_beyond_r_sigma__r_7',\n",
       " 'value__ratio_beyond_r_sigma__r_10',\n",
       " 'value__count_above__t_0',\n",
       " 'value__count_below__t_0',\n",
       " 'value__lempel_ziv_complexity__bins_2',\n",
       " 'value__lempel_ziv_complexity__bins_3',\n",
       " 'value__lempel_ziv_complexity__bins_5',\n",
       " 'value__lempel_ziv_complexity__bins_10',\n",
       " 'value__lempel_ziv_complexity__bins_100',\n",
       " 'value__fourier_entropy__bins_2',\n",
       " 'value__fourier_entropy__bins_3',\n",
       " 'value__fourier_entropy__bins_5',\n",
       " 'value__fourier_entropy__bins_10',\n",
       " 'value__fourier_entropy__bins_100',\n",
       " 'value__permutation_entropy__dimension_3__tau_1',\n",
       " 'value__permutation_entropy__dimension_4__tau_1',\n",
       " 'value__permutation_entropy__dimension_5__tau_1',\n",
       " 'value__permutation_entropy__dimension_6__tau_1',\n",
       " 'value__permutation_entropy__dimension_7__tau_1',\n",
       " 'value__query_similarity_count__query_None__threshold_0.0',\n",
       " 'value__matrix_profile__feature_\"min\"__threshold_0.98',\n",
       " 'value__matrix_profile__feature_\"max\"__threshold_0.98',\n",
       " 'value__matrix_profile__feature_\"mean\"__threshold_0.98',\n",
       " 'value__matrix_profile__feature_\"median\"__threshold_0.98',\n",
       " 'value__matrix_profile__feature_\"25\"__threshold_0.98',\n",
       " 'value__matrix_profile__feature_\"75\"__threshold_0.98']"
      ]
     },
     "execution_count": 76,
     "metadata": {},
     "output_type": "execute_result"
    }
   ],
   "source": [
    "list(extracted_features.columns)"
   ]
  },
  {
   "cell_type": "code",
   "execution_count": null,
   "id": "4284200a-eacb-48b6-98ef-45c005486226",
   "metadata": {},
   "outputs": [],
   "source": []
  }
 ],
 "metadata": {
  "kernelspec": {
   "display_name": "Python 3 (ipykernel)",
   "language": "python",
   "name": "python3"
  },
  "language_info": {
   "codemirror_mode": {
    "name": "ipython",
    "version": 3
   },
   "file_extension": ".py",
   "mimetype": "text/x-python",
   "name": "python",
   "nbconvert_exporter": "python",
   "pygments_lexer": "ipython3",
   "version": "3.9.5"
  }
 },
 "nbformat": 4,
 "nbformat_minor": 5
}
