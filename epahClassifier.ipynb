{
 "cells": [
  {
   "cell_type": "raw",
   "id": "5c1a0efe-9a5c-44d3-9011-fe598f3c2b1d",
   "metadata": {},
   "source": [
    "TODO:\n",
    "- make 'wave' more flexible (similar to 'savecleanforms' w/ the .item()[0])"
   ]
  },
  {
   "cell_type": "code",
   "execution_count": 1,
   "id": "791e4bd7-d3bd-46c4-a76b-21315a6d1a7f",
   "metadata": {},
   "outputs": [],
   "source": [
    "import matplotlib.pyplot as plt\n",
    "import numpy as np\n",
    "import pandas as pd\n",
    "import pywt\n",
    "import random\n",
    "from scipy.io import loadmat\n",
    "\n",
    "from tsfresh import extract_relevant_features\n",
    "\n",
    "import os"
   ]
  },
  {
   "cell_type": "code",
   "execution_count": 2,
   "id": "e312eea8-4cb4-4d3f-8ec9-e641110775b3",
   "metadata": {},
   "outputs": [],
   "source": [
    "# files = [f'waveforms/{f}' for f in os.listdir('waveforms') if 'HG8707' in f or 'HJ3311' in f]\n",
    "# files = [f'waveforms/{f}' for f in os.listdir('waveforms') if 'clean' in f and 'diast' not in f and 'trended' not in f]\n",
    "\n",
    "class epahClassifier():\n",
    "    def __init__(self, waveforms=None, labels=None):\n",
    "        self.waveforms = waveforms\n",
    "        self.labels = labels\n",
    "    \n",
    "    def load_waveforms_from_files(self, files):\n",
    "        # Load time series into DataFrame\n",
    "        df_list = []\n",
    "        for file in files:\n",
    "            # Load ECG data from the downloaded MATLAB file\n",
    "            mat = loadmat(file)\n",
    "            file_id = file.split('.')[0]\n",
    "            file_id = file_id.split('/')[-1]\n",
    "            \n",
    "            # For now, there are two types of files\n",
    "            # - Files ending in '_000' only contain ONE waveform\n",
    "            # - Files containing 'clean' may contain MULTIPLE waveforms\n",
    "            if 'wave' in mat:\n",
    "                # Note: Each file only contains ONE waveform!\n",
    "                wave = mat['wave'][0][0][13][3]\n",
    "\n",
    "                for i, x in enumerate(wave):\n",
    "                    df_dict = {\n",
    "                        'id':      file_id,\n",
    "                        'time':    i,\n",
    "                        'value':   wave[i],\n",
    "                    }\n",
    "\n",
    "                    df_list.append(df_dict)\n",
    "                    \n",
    "            elif 'savecleanforms' in mat:\n",
    "                # Note: Each file may contain multiple waveforms!\n",
    "                waves = mat['savecleanforms']['wave']\n",
    "                \n",
    "                # Create entries for each waveform in the mat file\n",
    "                for wave_num, wave in enumerate(waves.item()[0]):\n",
    "                    wave = wave[0]\n",
    "                    \n",
    "                    for i, x in enumerate(wave):\n",
    "                        df_dict = {\n",
    "                            'id':      f'{file_id}_{wave_num}',\n",
    "                            'time':    i,\n",
    "                            'value':   wave[i],\n",
    "                        }\n",
    "                        \n",
    "                        df_list.append(df_dict)\n",
    "\n",
    "        self.waveforms = pd.DataFrame(df_list)\n",
    "    \n",
    "    def load_labels_from_files(self, files):\n",
    "        # Load labels into Data Series\n",
    "        labels_dict = {}\n",
    "        ind = []\n",
    "        for file in files:\n",
    "            file_id = file.split('_')[0]\n",
    "            \n",
    "            if mat.has_key('wave'):\n",
    "                # Note: Each file only contains ONE waveform!\n",
    "                labels_dict[file_id] = int(data[0] % 2)\n",
    "                ind.append(file_id)\n",
    "                \n",
    "            elif mat.has_key('savecleanforms'):\n",
    "                # Note: Each file may contain multiple waveforms!\n",
    "                labels_dict[file_id] = int(data[0] % 2)\n",
    "                ind.append(file_id)\n",
    "\n",
    "        self.labels = pd.Series(labels_dict, index=ind)"
   ]
  },
  {
   "cell_type": "code",
   "execution_count": 112,
   "id": "4b32b228-6734-492d-b8dd-5f02961b6d3f",
   "metadata": {},
   "outputs": [
    {
     "name": "stdout",
     "output_type": "stream",
     "text": [
      "Data Size: 25\n",
      "# Waveforms: 156\n"
     ]
    }
   ],
   "source": [
    "epah = epahClassifier()\n",
    "\n",
    "files_in_folder = [f'waveforms/{f}' for f in os.listdir('waveforms') if 'clean' in f and 'diast' not in f and 'trended' not in f and 'EL1030' not in f]\n",
    "\n",
    "df_labels = pd.read_csv('labels.csv')\n",
    "df_labels['Filename'] = df_labels['Filename'].str.strip()\n",
    "df_labels = df_labels.set_index(['Filename'])\n",
    "df_labels['File_Exists'] = [any(filename.split('_')[0] in f for f in files_in_folder) for filename in df_labels.index]\n",
    "df_labels['RHC_and_Exists'] = ~df_labels['RHC_or_CPET'] & df_labels['File_Exists']\n",
    "df_labels['Label'] = df_labels['Source'].map({'control': 0, 'pah': 1, 'epah': 2})\n",
    "\n",
    "files = [f'waveforms/{f.strip()}cleanforms.mat' for f in df_labels[df_labels['RHC_and_Exists']].index]\n",
    "\n",
    "epah.load_waveforms_from_files(files)\n",
    "\n",
    "print(f'Data Size: {len(files)}')\n",
    "\n",
    "print(f'# Waveforms: {len(epah.waveforms.id.unique())}')"
   ]
  },
  {
   "cell_type": "code",
   "execution_count": 113,
   "id": "c72c4a6e-b98c-46bb-aa3d-ecfba049af58",
   "metadata": {},
   "outputs": [
    {
     "data": {
      "text/plain": [
       "HJ6108_WAV_004cleanforms_0    0\n",
       "HJ6108_WAV_004cleanforms_1    0\n",
       "HJ6108_WAV_004cleanforms_2    0\n",
       "HJ6108_WAV_004cleanforms_3    0\n",
       "HJ6108_WAV_004cleanforms_4    0\n",
       "                             ..\n",
       "HH3542_WAV_004cleanforms_2    2\n",
       "HH3542_WAV_004cleanforms_3    2\n",
       "HH3542_WAV_004cleanforms_4    2\n",
       "HH3542_WAV_004cleanforms_5    2\n",
       "HH3542_WAV_004cleanforms_6    2\n",
       "Length: 156, dtype: int64"
      ]
     },
     "metadata": {},
     "output_type": "display_data"
    },
    {
     "name": "stdout",
     "output_type": "stream",
     "text": [
      "\n",
      "2    65\n",
      "1    61\n",
      "0    30\n",
      "dtype: int64\n"
     ]
    }
   ],
   "source": [
    "id_list = list(epah.waveforms['id'])\n",
    "\n",
    "labels_dict = {}\n",
    "for file_id in id_list:\n",
    "    labels_dict[file_id] = df_labels.loc[file_id.split('clean')[0]]['Label']\n",
    "\n",
    "epah.labels = pd.Series(labels_dict, index=list(labels_dict.keys()))\n",
    "display(epah.labels)\n",
    "\n",
    "print()\n",
    "print(epah.labels.value_counts())"
   ]
  },
  {
   "cell_type": "code",
   "execution_count": null,
   "id": "f93f5b6a-9bc4-4e41-9893-dbb11059a822",
   "metadata": {},
   "outputs": [],
   "source": [
    "features_filtered_direct = extract_relevant_features(epah.waveforms, epah.labels,\n",
    "                                                     column_id='id', column_sort='time',\n",
    "                                                     column_value='value')"
   ]
  },
  {
   "cell_type": "code",
   "execution_count": null,
   "id": "a20cf933-4371-40e5-b280-ceeb97b2944d",
   "metadata": {},
   "outputs": [],
   "source": [
    "features_filtered_direct"
   ]
  },
  {
   "cell_type": "code",
   "execution_count": 5,
   "id": "095a98fb-8083-471c-85bf-fd670c66ba8e",
   "metadata": {},
   "outputs": [],
   "source": [
    "from sklearn.pipeline import Pipeline\n",
    "from sklearn.model_selection import train_test_split\n",
    "from sklearn.ensemble import RandomForestClassifier\n",
    "from sklearn.metrics import classification_report\n",
    "\n",
    "from tsfresh.transformers import RelevantFeatureAugmenter\n",
    "from tsfresh.utilities.dataframe_functions import impute"
   ]
  },
  {
   "cell_type": "code",
   "execution_count": 129,
   "id": "98e4e710-acb5-4594-8ea5-f9850e12d740",
   "metadata": {},
   "outputs": [
    {
     "data": {
      "text/html": [
       "<div>\n",
       "<style scoped>\n",
       "    .dataframe tbody tr th:only-of-type {\n",
       "        vertical-align: middle;\n",
       "    }\n",
       "\n",
       "    .dataframe tbody tr th {\n",
       "        vertical-align: top;\n",
       "    }\n",
       "\n",
       "    .dataframe thead th {\n",
       "        text-align: right;\n",
       "    }\n",
       "</style>\n",
       "<table border=\"1\" class=\"dataframe\">\n",
       "  <thead>\n",
       "    <tr style=\"text-align: right;\">\n",
       "      <th></th>\n",
       "      <th>pt</th>\n",
       "      <th>label</th>\n",
       "      <th>weight</th>\n",
       "    </tr>\n",
       "  </thead>\n",
       "  <tbody>\n",
       "    <tr>\n",
       "      <th>15</th>\n",
       "      <td>HG6937</td>\n",
       "      <td>0</td>\n",
       "      <td>4</td>\n",
       "    </tr>\n",
       "    <tr>\n",
       "      <th>4</th>\n",
       "      <td>HJ5111</td>\n",
       "      <td>0</td>\n",
       "      <td>6</td>\n",
       "    </tr>\n",
       "    <tr>\n",
       "      <th>11</th>\n",
       "      <td>HJ6338</td>\n",
       "      <td>2</td>\n",
       "      <td>5</td>\n",
       "    </tr>\n",
       "    <tr>\n",
       "      <th>13</th>\n",
       "      <td>HJ5879</td>\n",
       "      <td>2</td>\n",
       "      <td>4</td>\n",
       "    </tr>\n",
       "    <tr>\n",
       "      <th>6</th>\n",
       "      <td>HJ4998</td>\n",
       "      <td>2</td>\n",
       "      <td>7</td>\n",
       "    </tr>\n",
       "  </tbody>\n",
       "</table>\n",
       "</div>"
      ],
      "text/plain": [
       "        pt  label  weight\n",
       "15  HG6937      0       4\n",
       "4   HJ5111      0       6\n",
       "11  HJ6338      2       5\n",
       "13  HJ5879      2       4\n",
       "6   HJ4998      2       7"
      ]
     },
     "metadata": {},
     "output_type": "display_data"
    },
    {
     "name": "stdout",
     "output_type": "stream",
     "text": [
      "Training Split: 69\n",
      "Testing  Split: 26\n"
     ]
    }
   ],
   "source": [
    "# Classes:\n",
    "# 0: Control\n",
    "# 1: PAH\n",
    "# 2: EPAH\n",
    "\n",
    "# Remove Class\n",
    "# -1 -->  keep all 3 classes\n",
    "# 0  -->  PAH vs EPAH\n",
    "# 1  -->  Control vs EPAH\n",
    "# 2  -->  Control vs PAH\n",
    "class_remove = 1\n",
    "    \n",
    "y = epah.labels[epah.labels != class_remove]\n",
    "\n",
    "X = pd.DataFrame(index=y.index)\n",
    "\n",
    "# Split data into train and test set\n",
    "# X_train, X_test, y_train, y_test = train_test_split(X, y)\n",
    "\n",
    "# Ensure even split between labels\n",
    "# FOR NOW, pick 2 patients randomly from each class\n",
    "pt_list = list(set(ind.split('_')[0] for ind in y.index))\n",
    "\n",
    "pt_labels = []\n",
    "for pt in pt_list:\n",
    "    label = y[[pt in ind for ind in y.index]][0]\n",
    "    weight = sum([pt in ind for ind in y.index])\n",
    "    \n",
    "    pt_labels.append({\n",
    "        'pt':     pt,\n",
    "        'label':  label,\n",
    "        'weight': weight,\n",
    "    })\n",
    "\n",
    "pt_df = pd.DataFrame(pt_labels)\n",
    "\n",
    "if class_remove == 0:\n",
    "    pt_test = pd.concat([pt_df[pt_df['label'] == 1].sample(n=3),\n",
    "                         pt_df[pt_df['label'] == 2].sample(n=3)])\n",
    "elif class_remove == 1:\n",
    "    pt_test = pd.concat([pt_df[pt_df['label'] == 0].sample(n=2),\n",
    "                         pt_df[pt_df['label'] == 2].sample(n=3)])\n",
    "elif class_remove == 2:\n",
    "    pt_test = pd.concat([pt_df[pt_df['label'] == 0].sample(n=2),\n",
    "                         pt_df[pt_df['label'] == 1].sample(n=3),])\n",
    "else:\n",
    "    pt_test = pd.concat([pt_df[pt_df['label'] == 0].sample(n=2),\n",
    "                         pt_df[pt_df['label'] == 1].sample(n=3),\n",
    "                         pt_df[pt_df['label'] == 2].sample(n=3)])\n",
    "\n",
    "display(pt_test)\n",
    "\n",
    "y_train = y[[all(pt not in ind for pt in pt_test['pt']) for ind in y.index]]\n",
    "X_train = X[[all(pt not in ind for pt in pt_test['pt']) for ind in X.index]]\n",
    "y_test = y[[any(pt in ind for pt in pt_test['pt']) for ind in y.index]]\n",
    "X_test = X[[any(pt in ind for pt in pt_test['pt']) for ind in X.index]]\n",
    "\n",
    "print(f'Training Split: {len(y_train)}')\n",
    "print(f'Testing  Split: {len(y_test)}')"
   ]
  },
  {
   "cell_type": "code",
   "execution_count": 130,
   "id": "af1aed61-b395-425b-a7a0-f5a3e53075fc",
   "metadata": {},
   "outputs": [
    {
     "name": "stderr",
     "output_type": "stream",
     "text": [
      "Feature Extraction: 100%|██████████████████████████████████████████████████████████████| 23/23 [00:04<00:00,  4.76it/s]\n",
      "C:\\Users\\andre\\miniconda3\\envs\\epahClassification\\lib\\site-packages\\tsfresh\\utilities\\dataframe_functions.py:171: RuntimeWarning: The columns ['value__query_similarity_count__query_None__threshold_0.0'] did not have any finite values. Filling with zeros.\n",
      "  warnings.warn(\"The columns {} did not have any finite values. Filling with zeros.\".format(\n",
      "Feature Extraction: 100%|██████████████████████████████████████████████████████████████| 26/26 [00:02<00:00, 10.95it/s]\n"
     ]
    },
    {
     "name": "stdout",
     "output_type": "stream",
     "text": [
      "              precision    recall  f1-score   support\n",
      "\n",
      "           0       0.40      0.40      0.40        10\n",
      "           2       0.62      0.62      0.62        16\n",
      "\n",
      "    accuracy                           0.54        26\n",
      "   macro avg       0.51      0.51      0.51        26\n",
      "weighted avg       0.54      0.54      0.54        26\n",
      "\n"
     ]
    }
   ],
   "source": [
    "ppl = Pipeline([\n",
    "        ('augmenter', RelevantFeatureAugmenter(column_id='id', column_sort='time')),\n",
    "        ('classifier', RandomForestClassifier())\n",
    "      ])\n",
    "\n",
    "ppl.set_params(augmenter__timeseries_container=epah.waveforms[epah.waveforms['id'].isin(y.index)])\n",
    "\n",
    "ppl.fit(X_train, y_train)\n",
    "\n",
    "y_pred = ppl.predict(X_test)\n",
    "\n",
    "print(classification_report(y_test, y_pred))"
   ]
  },
  {
   "cell_type": "code",
   "execution_count": 131,
   "id": "6acb373f-2e9f-4db0-8d60-c17460080d1a",
   "metadata": {},
   "outputs": [
    {
     "name": "stderr",
     "output_type": "stream",
     "text": [
      "Feature Extraction: 100%|██████████████████████████████████████████████████████████████| 26/26 [00:02<00:00, 10.99it/s]\n"
     ]
    },
    {
     "data": {
      "text/plain": [
       "<matplotlib.legend.Legend at 0x183b058e040>"
      ]
     },
     "execution_count": 131,
     "metadata": {},
     "output_type": "execute_result"
    },
    {
     "data": {
      "image/png": "[encoded data removed]",
      "text/plain": [
       "<Figure size 432x288 with 1 Axes>"
      ]
     },
     "metadata": {
      "needs_background": "light"
     },
     "output_type": "display_data"
    }
   ],
   "source": [
    "from sklearn.metrics import plot_roc_curve\n",
    "\n",
    "fig, ax = plt.subplots()\n",
    "plot_roc_curve(ppl, X_test, y_test, ax=ax)\n",
    "ax.plot([0, 1], [0, 1], linestyle='--', lw=2, color='r',\n",
    "        label='Chance', alpha=.8)\n",
    "ax.legend()"
   ]
  },
  {
   "cell_type": "code",
   "execution_count": null,
   "id": "7492b8bc-1ab7-482b-a3b6-484480cb8923",
   "metadata": {},
   "outputs": [],
   "source": [
    "ppl.named_steps[\"augmenter\"].feature_selector.relevant_features"
   ]
  },
  {
   "cell_type": "code",
   "execution_count": null,
   "id": "1c0bc499-238f-4cb1-8871-86d3414e66d7",
   "metadata": {},
   "outputs": [],
   "source": []
  }
 ],
 "metadata": {
  "kernelspec": {
   "display_name": "Python 3 (ipykernel)",
   "language": "python",
   "name": "python3"
  },
  "language_info": {
   "codemirror_mode": {
    "name": "ipython",
    "version": 3
   },
   "file_extension": ".py",
   "mimetype": "text/x-python",
   "name": "python",
   "nbconvert_exporter": "python",
   "pygments_lexer": "ipython3",
   "version": "3.9.5"
  }
 },
 "nbformat": 4,
 "nbformat_minor": 5
}
